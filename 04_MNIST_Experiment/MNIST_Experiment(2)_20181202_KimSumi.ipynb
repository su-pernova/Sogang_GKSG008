{
  "nbformat": 4,
  "nbformat_minor": 0,
  "metadata": {
    "colab": {
      "name": "MNIST_Experiment(2)_20181202_KimSumi.ipynb",
      "provenance": [],
      "collapsed_sections": []
    },
    "kernelspec": {
      "display_name": "Python 3",
      "name": "python3"
    },
    "language_info": {
      "name": "python"
    }
  },
  "cells": [
    {
      "cell_type": "markdown",
      "metadata": {
        "id": "_9JuYLg9eoQF"
      },
      "source": [
        "# **Programming for Applied Deep Learning (GKSG008-01)**\n",
        "> ### **20181202 김수미**\n",
        "> ### MNIST Experiment(2) (Based on 11/4 Lecture)"
      ]
    },
    {
      "cell_type": "markdown",
      "metadata": {
        "id": "6vavoZOYNo_3"
      },
      "source": [
        "> ### **4-1. Set the number of epochs to 100.**"
      ]
    },
    {
      "cell_type": "markdown",
      "metadata": {
        "id": "A67j3p0HhUfw"
      },
      "source": [
        "**1. Import Libraries and Define Functions**"
      ]
    },
    {
      "cell_type": "code",
      "metadata": {
        "id": "hF2mllFYel2S"
      },
      "source": [
        "pip install d2l"
      ],
      "execution_count": null,
      "outputs": []
    },
    {
      "cell_type": "code",
      "metadata": {
        "id": "nimO5kM7b-FT"
      },
      "source": [
        "import torch\n",
        "import torchvision\n",
        "import numpy as np\n",
        "import matplotlib.pyplot as plt\n",
        "import torchvision.transforms as transforms\n",
        "import torch.utils.data as data\n",
        "import cv2\n",
        "\n",
        "import warnings\n",
        "warnings.filterwarnings('ignore')\n",
        "\n",
        "from d2l.torch import *\n",
        "from torch import nn\n",
        "from d2l import torch as d2l\n",
        "from torch.utils.data import DataLoader"
      ],
      "execution_count": null,
      "outputs": []
    },
    {
      "cell_type": "code",
      "metadata": {
        "id": "rGhox0orfSBh"
      },
      "source": [
        "def load_data_mnist(batch_size, resize=None):\n",
        "    trans = [transforms.ToTensor()]\n",
        "    if resize:\n",
        "      trans.insert(0,transforms.Resize(resize))\n",
        "    trans = transforms.Compose(trans)\n",
        "    mnist_train = torchvision.datasets.MNIST(root=\"../data\",train=True,transform=trans,download=True)\n",
        "    mnist_test = torchvision.datasets.MNIST(root=\"../data\",train=False,transform=trans,download=True)\n",
        "    return(data.DataLoader(mnist_train,batch_size,shuffle=True,num_workers=4),\n",
        "           data.DataLoader(mnist_test,batch_size,shuffle=False,num_workers=4))"
      ],
      "execution_count": null,
      "outputs": []
    },
    {
      "cell_type": "code",
      "metadata": {
        "id": "LjHNnBndMWDY"
      },
      "source": [
        "def my_train_ch3(net, train_iter, test_iter, loss, num_epochs, updater):\n",
        "    animator = Animator(xlabel='epoch', xlim=[1, num_epochs], ylim=[0.3, 0.9],\n",
        "                        legend=['train loss', 'train acc', 'test acc'])\n",
        "    for epoch in range(num_epochs):\n",
        "        train_metrics = train_epoch_ch3(net, train_iter, loss, updater)\n",
        "        test_acc = evaluate_accuracy(net, test_iter)\n",
        "        animator.add(epoch + 1, train_metrics + (test_acc,))\n",
        "    train_loss, train_acc = train_metrics\n",
        "    assert train_loss < 0.5, train_loss\n",
        "    assert train_acc <= 1 and train_acc > 0.7, train_acc\n",
        "    assert test_acc <= 1 and test_acc > 0.7, test_acc\n",
        "    print(\"Final train loss : {:.4f}\".format(train_loss))"
      ],
      "execution_count": null,
      "outputs": []
    },
    {
      "cell_type": "markdown",
      "metadata": {
        "id": "sMLTfgNYkRFw"
      },
      "source": [
        "**2. Load Dataset and Define Parameters**"
      ]
    },
    {
      "cell_type": "code",
      "metadata": {
        "id": "IXcsVgZdeeWT"
      },
      "source": [
        "batch_size = 256\n",
        "train_iter, test_iter = load_data_mnist(batch_size)"
      ],
      "execution_count": null,
      "outputs": []
    },
    {
      "cell_type": "markdown",
      "metadata": {
        "id": "95TsftsakafM"
      },
      "source": [
        "**3. Define Model**"
      ]
    },
    {
      "cell_type": "code",
      "metadata": {
        "id": "JsUKZhDwhgl5"
      },
      "source": [
        "net = nn.Sequential(nn.Flatten(), nn.Linear(784, 10))\n",
        "def init_weights(m):\n",
        "    if type(m) == nn.Linear:\n",
        "        nn.init.normal_(m.weight, std=0.01)\n",
        "net.apply(init_weights);"
      ],
      "execution_count": null,
      "outputs": []
    },
    {
      "cell_type": "markdown",
      "metadata": {
        "id": "B77AjJGrke7u"
      },
      "source": [
        "**4. Train the Model : Set my own parameters**"
      ]
    },
    {
      "cell_type": "code",
      "metadata": {
        "colab": {
          "base_uri": "https://localhost:8080/",
          "height": 278
        },
        "id": "r0VbpS3Njpmw",
        "outputId": "402dea22-62db-46ad-f35f-6ff8ebf94f28"
      },
      "source": [
        "loss = nn.CrossEntropyLoss()\n",
        "trainer = torch.optim.SGD(net.parameters(), lr=0.1)\n",
        "\n",
        "num_epochs = 100 # takes about 11 min\n",
        "my_train_ch3(net, train_iter, test_iter, loss, num_epochs, trainer)"
      ],
      "execution_count": null,
      "outputs": [
        {
          "output_type": "stream",
          "name": "stdout",
          "text": [
            "Final train loss : 0.2542\n"
          ]
        },
        {
          "output_type": "display_data",
          "data": {
            "text/plain": [
              "<Figure size 252x180 with 1 Axes>"
            ],
            "image/svg+xml": "<?xml version=\"1.0\" encoding=\"utf-8\" standalone=\"no\"?>\n<!DOCTYPE svg PUBLIC \"-//W3C//DTD SVG 1.1//EN\"\n  \"http://www.w3.org/Graphics/SVG/1.1/DTD/svg11.dtd\">\n<!-- Created with matplotlib (https://matplotlib.org/) -->\n<svg height=\"180.65625pt\" version=\"1.1\" viewBox=\"0 0 242.146875 180.65625\" width=\"242.146875pt\" xmlns=\"http://www.w3.org/2000/svg\" xmlns:xlink=\"http://www.w3.org/1999/xlink\">\n <defs>\n  <style type=\"text/css\">\n*{stroke-linecap:butt;stroke-linejoin:round;}\n  </style>\n </defs>\n <g id=\"figure_1\">\n  <g id=\"patch_1\">\n   <path d=\"M 0 180.65625 \nL 242.146875 180.65625 \nL 242.146875 0 \nL 0 0 \nz\n\" style=\"fill:none;\"/>\n  </g>\n  <g id=\"axes_1\">\n   <g id=\"patch_2\">\n    <path d=\"M 30.103125 143.1 \nL 225.403125 143.1 \nL 225.403125 7.2 \nL 30.103125 7.2 \nz\n\" style=\"fill:#ffffff;\"/>\n   </g>\n   <g id=\"matplotlib.axis_1\">\n    <g id=\"xtick_1\">\n     <g id=\"line2d_1\">\n      <path clip-path=\"url(#p4b61d09ea3)\" d=\"M 67.584943 143.1 \nL 67.584943 7.2 \n\" style=\"fill:none;stroke:#b0b0b0;stroke-linecap:square;stroke-width:0.8;\"/>\n     </g>\n     <g id=\"line2d_2\">\n      <defs>\n       <path d=\"M 0 0 \nL 0 3.5 \n\" id=\"m5f5ade7783\" style=\"stroke:#000000;stroke-width:0.8;\"/>\n      </defs>\n      <g>\n       <use style=\"stroke:#000000;stroke-width:0.8;\" x=\"67.584943\" xlink:href=\"#m5f5ade7783\" y=\"143.1\"/>\n      </g>\n     </g>\n     <g id=\"text_1\">\n      <!-- 20 -->\n      <defs>\n       <path d=\"M 19.1875 8.296875 \nL 53.609375 8.296875 \nL 53.609375 0 \nL 7.328125 0 \nL 7.328125 8.296875 \nQ 12.9375 14.109375 22.625 23.890625 \nQ 32.328125 33.6875 34.8125 36.53125 \nQ 39.546875 41.84375 41.421875 45.53125 \nQ 43.3125 49.21875 43.3125 52.78125 \nQ 43.3125 58.59375 39.234375 62.25 \nQ 35.15625 65.921875 28.609375 65.921875 \nQ 23.96875 65.921875 18.8125 64.3125 \nQ 13.671875 62.703125 7.8125 59.421875 \nL 7.8125 69.390625 \nQ 13.765625 71.78125 18.9375 73 \nQ 24.125 74.21875 28.421875 74.21875 \nQ 39.75 74.21875 46.484375 68.546875 \nQ 53.21875 62.890625 53.21875 53.421875 \nQ 53.21875 48.921875 51.53125 44.890625 \nQ 49.859375 40.875 45.40625 35.40625 \nQ 44.1875 33.984375 37.640625 27.21875 \nQ 31.109375 20.453125 19.1875 8.296875 \nz\n\" id=\"DejaVuSans-50\"/>\n       <path d=\"M 31.78125 66.40625 \nQ 24.171875 66.40625 20.328125 58.90625 \nQ 16.5 51.421875 16.5 36.375 \nQ 16.5 21.390625 20.328125 13.890625 \nQ 24.171875 6.390625 31.78125 6.390625 \nQ 39.453125 6.390625 43.28125 13.890625 \nQ 47.125 21.390625 47.125 36.375 \nQ 47.125 51.421875 43.28125 58.90625 \nQ 39.453125 66.40625 31.78125 66.40625 \nz\nM 31.78125 74.21875 \nQ 44.046875 74.21875 50.515625 64.515625 \nQ 56.984375 54.828125 56.984375 36.375 \nQ 56.984375 17.96875 50.515625 8.265625 \nQ 44.046875 -1.421875 31.78125 -1.421875 \nQ 19.53125 -1.421875 13.0625 8.265625 \nQ 6.59375 17.96875 6.59375 36.375 \nQ 6.59375 54.828125 13.0625 64.515625 \nQ 19.53125 74.21875 31.78125 74.21875 \nz\n\" id=\"DejaVuSans-48\"/>\n      </defs>\n      <g transform=\"translate(61.222443 157.698438)scale(0.1 -0.1)\">\n       <use xlink:href=\"#DejaVuSans-50\"/>\n       <use x=\"63.623047\" xlink:href=\"#DejaVuSans-48\"/>\n      </g>\n     </g>\n    </g>\n    <g id=\"xtick_2\">\n     <g id=\"line2d_3\">\n      <path clip-path=\"url(#p4b61d09ea3)\" d=\"M 107.039489 143.1 \nL 107.039489 7.2 \n\" style=\"fill:none;stroke:#b0b0b0;stroke-linecap:square;stroke-width:0.8;\"/>\n     </g>\n     <g id=\"line2d_4\">\n      <g>\n       <use style=\"stroke:#000000;stroke-width:0.8;\" x=\"107.039489\" xlink:href=\"#m5f5ade7783\" y=\"143.1\"/>\n      </g>\n     </g>\n     <g id=\"text_2\">\n      <!-- 40 -->\n      <defs>\n       <path d=\"M 37.796875 64.3125 \nL 12.890625 25.390625 \nL 37.796875 25.390625 \nz\nM 35.203125 72.90625 \nL 47.609375 72.90625 \nL 47.609375 25.390625 \nL 58.015625 25.390625 \nL 58.015625 17.1875 \nL 47.609375 17.1875 \nL 47.609375 0 \nL 37.796875 0 \nL 37.796875 17.1875 \nL 4.890625 17.1875 \nL 4.890625 26.703125 \nz\n\" id=\"DejaVuSans-52\"/>\n      </defs>\n      <g transform=\"translate(100.676989 157.698438)scale(0.1 -0.1)\">\n       <use xlink:href=\"#DejaVuSans-52\"/>\n       <use x=\"63.623047\" xlink:href=\"#DejaVuSans-48\"/>\n      </g>\n     </g>\n    </g>\n    <g id=\"xtick_3\">\n     <g id=\"line2d_5\">\n      <path clip-path=\"url(#p4b61d09ea3)\" d=\"M 146.494034 143.1 \nL 146.494034 7.2 \n\" style=\"fill:none;stroke:#b0b0b0;stroke-linecap:square;stroke-width:0.8;\"/>\n     </g>\n     <g id=\"line2d_6\">\n      <g>\n       <use style=\"stroke:#000000;stroke-width:0.8;\" x=\"146.494034\" xlink:href=\"#m5f5ade7783\" y=\"143.1\"/>\n      </g>\n     </g>\n     <g id=\"text_3\">\n      <!-- 60 -->\n      <defs>\n       <path d=\"M 33.015625 40.375 \nQ 26.375 40.375 22.484375 35.828125 \nQ 18.609375 31.296875 18.609375 23.390625 \nQ 18.609375 15.53125 22.484375 10.953125 \nQ 26.375 6.390625 33.015625 6.390625 \nQ 39.65625 6.390625 43.53125 10.953125 \nQ 47.40625 15.53125 47.40625 23.390625 \nQ 47.40625 31.296875 43.53125 35.828125 \nQ 39.65625 40.375 33.015625 40.375 \nz\nM 52.59375 71.296875 \nL 52.59375 62.3125 \nQ 48.875 64.0625 45.09375 64.984375 \nQ 41.3125 65.921875 37.59375 65.921875 \nQ 27.828125 65.921875 22.671875 59.328125 \nQ 17.53125 52.734375 16.796875 39.40625 \nQ 19.671875 43.65625 24.015625 45.921875 \nQ 28.375 48.1875 33.59375 48.1875 \nQ 44.578125 48.1875 50.953125 41.515625 \nQ 57.328125 34.859375 57.328125 23.390625 \nQ 57.328125 12.15625 50.6875 5.359375 \nQ 44.046875 -1.421875 33.015625 -1.421875 \nQ 20.359375 -1.421875 13.671875 8.265625 \nQ 6.984375 17.96875 6.984375 36.375 \nQ 6.984375 53.65625 15.1875 63.9375 \nQ 23.390625 74.21875 37.203125 74.21875 \nQ 40.921875 74.21875 44.703125 73.484375 \nQ 48.484375 72.75 52.59375 71.296875 \nz\n\" id=\"DejaVuSans-54\"/>\n      </defs>\n      <g transform=\"translate(140.131534 157.698438)scale(0.1 -0.1)\">\n       <use xlink:href=\"#DejaVuSans-54\"/>\n       <use x=\"63.623047\" xlink:href=\"#DejaVuSans-48\"/>\n      </g>\n     </g>\n    </g>\n    <g id=\"xtick_4\">\n     <g id=\"line2d_7\">\n      <path clip-path=\"url(#p4b61d09ea3)\" d=\"M 185.94858 143.1 \nL 185.94858 7.2 \n\" style=\"fill:none;stroke:#b0b0b0;stroke-linecap:square;stroke-width:0.8;\"/>\n     </g>\n     <g id=\"line2d_8\">\n      <g>\n       <use style=\"stroke:#000000;stroke-width:0.8;\" x=\"185.94858\" xlink:href=\"#m5f5ade7783\" y=\"143.1\"/>\n      </g>\n     </g>\n     <g id=\"text_4\">\n      <!-- 80 -->\n      <defs>\n       <path d=\"M 31.78125 34.625 \nQ 24.75 34.625 20.71875 30.859375 \nQ 16.703125 27.09375 16.703125 20.515625 \nQ 16.703125 13.921875 20.71875 10.15625 \nQ 24.75 6.390625 31.78125 6.390625 \nQ 38.8125 6.390625 42.859375 10.171875 \nQ 46.921875 13.96875 46.921875 20.515625 \nQ 46.921875 27.09375 42.890625 30.859375 \nQ 38.875 34.625 31.78125 34.625 \nz\nM 21.921875 38.8125 \nQ 15.578125 40.375 12.03125 44.71875 \nQ 8.5 49.078125 8.5 55.328125 \nQ 8.5 64.0625 14.71875 69.140625 \nQ 20.953125 74.21875 31.78125 74.21875 \nQ 42.671875 74.21875 48.875 69.140625 \nQ 55.078125 64.0625 55.078125 55.328125 \nQ 55.078125 49.078125 51.53125 44.71875 \nQ 48 40.375 41.703125 38.8125 \nQ 48.828125 37.15625 52.796875 32.3125 \nQ 56.78125 27.484375 56.78125 20.515625 \nQ 56.78125 9.90625 50.3125 4.234375 \nQ 43.84375 -1.421875 31.78125 -1.421875 \nQ 19.734375 -1.421875 13.25 4.234375 \nQ 6.78125 9.90625 6.78125 20.515625 \nQ 6.78125 27.484375 10.78125 32.3125 \nQ 14.796875 37.15625 21.921875 38.8125 \nz\nM 18.3125 54.390625 \nQ 18.3125 48.734375 21.84375 45.5625 \nQ 25.390625 42.390625 31.78125 42.390625 \nQ 38.140625 42.390625 41.71875 45.5625 \nQ 45.3125 48.734375 45.3125 54.390625 \nQ 45.3125 60.0625 41.71875 63.234375 \nQ 38.140625 66.40625 31.78125 66.40625 \nQ 25.390625 66.40625 21.84375 63.234375 \nQ 18.3125 60.0625 18.3125 54.390625 \nz\n\" id=\"DejaVuSans-56\"/>\n      </defs>\n      <g transform=\"translate(179.58608 157.698438)scale(0.1 -0.1)\">\n       <use xlink:href=\"#DejaVuSans-56\"/>\n       <use x=\"63.623047\" xlink:href=\"#DejaVuSans-48\"/>\n      </g>\n     </g>\n    </g>\n    <g id=\"xtick_5\">\n     <g id=\"line2d_9\">\n      <path clip-path=\"url(#p4b61d09ea3)\" d=\"M 225.403125 143.1 \nL 225.403125 7.2 \n\" style=\"fill:none;stroke:#b0b0b0;stroke-linecap:square;stroke-width:0.8;\"/>\n     </g>\n     <g id=\"line2d_10\">\n      <g>\n       <use style=\"stroke:#000000;stroke-width:0.8;\" x=\"225.403125\" xlink:href=\"#m5f5ade7783\" y=\"143.1\"/>\n      </g>\n     </g>\n     <g id=\"text_5\">\n      <!-- 100 -->\n      <defs>\n       <path d=\"M 12.40625 8.296875 \nL 28.515625 8.296875 \nL 28.515625 63.921875 \nL 10.984375 60.40625 \nL 10.984375 69.390625 \nL 28.421875 72.90625 \nL 38.28125 72.90625 \nL 38.28125 8.296875 \nL 54.390625 8.296875 \nL 54.390625 0 \nL 12.40625 0 \nz\n\" id=\"DejaVuSans-49\"/>\n      </defs>\n      <g transform=\"translate(215.859375 157.698438)scale(0.1 -0.1)\">\n       <use xlink:href=\"#DejaVuSans-49\"/>\n       <use x=\"63.623047\" xlink:href=\"#DejaVuSans-48\"/>\n       <use x=\"127.246094\" xlink:href=\"#DejaVuSans-48\"/>\n      </g>\n     </g>\n    </g>\n    <g id=\"text_6\">\n     <!-- epoch -->\n     <defs>\n      <path d=\"M 56.203125 29.59375 \nL 56.203125 25.203125 \nL 14.890625 25.203125 \nQ 15.484375 15.921875 20.484375 11.0625 \nQ 25.484375 6.203125 34.421875 6.203125 \nQ 39.59375 6.203125 44.453125 7.46875 \nQ 49.3125 8.734375 54.109375 11.28125 \nL 54.109375 2.78125 \nQ 49.265625 0.734375 44.1875 -0.34375 \nQ 39.109375 -1.421875 33.890625 -1.421875 \nQ 20.796875 -1.421875 13.15625 6.1875 \nQ 5.515625 13.8125 5.515625 26.8125 \nQ 5.515625 40.234375 12.765625 48.109375 \nQ 20.015625 56 32.328125 56 \nQ 43.359375 56 49.78125 48.890625 \nQ 56.203125 41.796875 56.203125 29.59375 \nz\nM 47.21875 32.234375 \nQ 47.125 39.59375 43.09375 43.984375 \nQ 39.0625 48.390625 32.421875 48.390625 \nQ 24.90625 48.390625 20.390625 44.140625 \nQ 15.875 39.890625 15.1875 32.171875 \nz\n\" id=\"DejaVuSans-101\"/>\n      <path d=\"M 18.109375 8.203125 \nL 18.109375 -20.796875 \nL 9.078125 -20.796875 \nL 9.078125 54.6875 \nL 18.109375 54.6875 \nL 18.109375 46.390625 \nQ 20.953125 51.265625 25.265625 53.625 \nQ 29.59375 56 35.59375 56 \nQ 45.5625 56 51.78125 48.09375 \nQ 58.015625 40.1875 58.015625 27.296875 \nQ 58.015625 14.40625 51.78125 6.484375 \nQ 45.5625 -1.421875 35.59375 -1.421875 \nQ 29.59375 -1.421875 25.265625 0.953125 \nQ 20.953125 3.328125 18.109375 8.203125 \nz\nM 48.6875 27.296875 \nQ 48.6875 37.203125 44.609375 42.84375 \nQ 40.53125 48.484375 33.40625 48.484375 \nQ 26.265625 48.484375 22.1875 42.84375 \nQ 18.109375 37.203125 18.109375 27.296875 \nQ 18.109375 17.390625 22.1875 11.75 \nQ 26.265625 6.109375 33.40625 6.109375 \nQ 40.53125 6.109375 44.609375 11.75 \nQ 48.6875 17.390625 48.6875 27.296875 \nz\n\" id=\"DejaVuSans-112\"/>\n      <path d=\"M 30.609375 48.390625 \nQ 23.390625 48.390625 19.1875 42.75 \nQ 14.984375 37.109375 14.984375 27.296875 \nQ 14.984375 17.484375 19.15625 11.84375 \nQ 23.34375 6.203125 30.609375 6.203125 \nQ 37.796875 6.203125 41.984375 11.859375 \nQ 46.1875 17.53125 46.1875 27.296875 \nQ 46.1875 37.015625 41.984375 42.703125 \nQ 37.796875 48.390625 30.609375 48.390625 \nz\nM 30.609375 56 \nQ 42.328125 56 49.015625 48.375 \nQ 55.71875 40.765625 55.71875 27.296875 \nQ 55.71875 13.875 49.015625 6.21875 \nQ 42.328125 -1.421875 30.609375 -1.421875 \nQ 18.84375 -1.421875 12.171875 6.21875 \nQ 5.515625 13.875 5.515625 27.296875 \nQ 5.515625 40.765625 12.171875 48.375 \nQ 18.84375 56 30.609375 56 \nz\n\" id=\"DejaVuSans-111\"/>\n      <path d=\"M 48.78125 52.59375 \nL 48.78125 44.1875 \nQ 44.96875 46.296875 41.140625 47.34375 \nQ 37.3125 48.390625 33.40625 48.390625 \nQ 24.65625 48.390625 19.8125 42.84375 \nQ 14.984375 37.3125 14.984375 27.296875 \nQ 14.984375 17.28125 19.8125 11.734375 \nQ 24.65625 6.203125 33.40625 6.203125 \nQ 37.3125 6.203125 41.140625 7.25 \nQ 44.96875 8.296875 48.78125 10.40625 \nL 48.78125 2.09375 \nQ 45.015625 0.34375 40.984375 -0.53125 \nQ 36.96875 -1.421875 32.421875 -1.421875 \nQ 20.0625 -1.421875 12.78125 6.34375 \nQ 5.515625 14.109375 5.515625 27.296875 \nQ 5.515625 40.671875 12.859375 48.328125 \nQ 20.21875 56 33.015625 56 \nQ 37.15625 56 41.109375 55.140625 \nQ 45.0625 54.296875 48.78125 52.59375 \nz\n\" id=\"DejaVuSans-99\"/>\n      <path d=\"M 54.890625 33.015625 \nL 54.890625 0 \nL 45.90625 0 \nL 45.90625 32.71875 \nQ 45.90625 40.484375 42.875 44.328125 \nQ 39.84375 48.1875 33.796875 48.1875 \nQ 26.515625 48.1875 22.3125 43.546875 \nQ 18.109375 38.921875 18.109375 30.90625 \nL 18.109375 0 \nL 9.078125 0 \nL 9.078125 75.984375 \nL 18.109375 75.984375 \nL 18.109375 46.1875 \nQ 21.34375 51.125 25.703125 53.5625 \nQ 30.078125 56 35.796875 56 \nQ 45.21875 56 50.046875 50.171875 \nQ 54.890625 44.34375 54.890625 33.015625 \nz\n\" id=\"DejaVuSans-104\"/>\n     </defs>\n     <g transform=\"translate(112.525 171.376563)scale(0.1 -0.1)\">\n      <use xlink:href=\"#DejaVuSans-101\"/>\n      <use x=\"61.523438\" xlink:href=\"#DejaVuSans-112\"/>\n      <use x=\"125\" xlink:href=\"#DejaVuSans-111\"/>\n      <use x=\"186.181641\" xlink:href=\"#DejaVuSans-99\"/>\n      <use x=\"241.162109\" xlink:href=\"#DejaVuSans-104\"/>\n     </g>\n    </g>\n   </g>\n   <g id=\"matplotlib.axis_2\">\n    <g id=\"ytick_1\">\n     <g id=\"line2d_11\">\n      <path clip-path=\"url(#p4b61d09ea3)\" d=\"M 30.103125 120.45 \nL 225.403125 120.45 \n\" style=\"fill:none;stroke:#b0b0b0;stroke-linecap:square;stroke-width:0.8;\"/>\n     </g>\n     <g id=\"line2d_12\">\n      <defs>\n       <path d=\"M 0 0 \nL -3.5 0 \n\" id=\"m47c9315c68\" style=\"stroke:#000000;stroke-width:0.8;\"/>\n      </defs>\n      <g>\n       <use style=\"stroke:#000000;stroke-width:0.8;\" x=\"30.103125\" xlink:href=\"#m47c9315c68\" y=\"120.45\"/>\n      </g>\n     </g>\n     <g id=\"text_7\">\n      <!-- 0.4 -->\n      <defs>\n       <path d=\"M 10.6875 12.40625 \nL 21 12.40625 \nL 21 0 \nL 10.6875 0 \nz\n\" id=\"DejaVuSans-46\"/>\n      </defs>\n      <g transform=\"translate(7.2 124.249219)scale(0.1 -0.1)\">\n       <use xlink:href=\"#DejaVuSans-48\"/>\n       <use x=\"63.623047\" xlink:href=\"#DejaVuSans-46\"/>\n       <use x=\"95.410156\" xlink:href=\"#DejaVuSans-52\"/>\n      </g>\n     </g>\n    </g>\n    <g id=\"ytick_2\">\n     <g id=\"line2d_13\">\n      <path clip-path=\"url(#p4b61d09ea3)\" d=\"M 30.103125 75.15 \nL 225.403125 75.15 \n\" style=\"fill:none;stroke:#b0b0b0;stroke-linecap:square;stroke-width:0.8;\"/>\n     </g>\n     <g id=\"line2d_14\">\n      <g>\n       <use style=\"stroke:#000000;stroke-width:0.8;\" x=\"30.103125\" xlink:href=\"#m47c9315c68\" y=\"75.15\"/>\n      </g>\n     </g>\n     <g id=\"text_8\">\n      <!-- 0.6 -->\n      <g transform=\"translate(7.2 78.949219)scale(0.1 -0.1)\">\n       <use xlink:href=\"#DejaVuSans-48\"/>\n       <use x=\"63.623047\" xlink:href=\"#DejaVuSans-46\"/>\n       <use x=\"95.410156\" xlink:href=\"#DejaVuSans-54\"/>\n      </g>\n     </g>\n    </g>\n    <g id=\"ytick_3\">\n     <g id=\"line2d_15\">\n      <path clip-path=\"url(#p4b61d09ea3)\" d=\"M 30.103125 29.85 \nL 225.403125 29.85 \n\" style=\"fill:none;stroke:#b0b0b0;stroke-linecap:square;stroke-width:0.8;\"/>\n     </g>\n     <g id=\"line2d_16\">\n      <g>\n       <use style=\"stroke:#000000;stroke-width:0.8;\" x=\"30.103125\" xlink:href=\"#m47c9315c68\" y=\"29.85\"/>\n      </g>\n     </g>\n     <g id=\"text_9\">\n      <!-- 0.8 -->\n      <g transform=\"translate(7.2 33.649219)scale(0.1 -0.1)\">\n       <use xlink:href=\"#DejaVuSans-48\"/>\n       <use x=\"63.623047\" xlink:href=\"#DejaVuSans-46\"/>\n       <use x=\"95.410156\" xlink:href=\"#DejaVuSans-56\"/>\n      </g>\n     </g>\n    </g>\n   </g>\n   <g id=\"line2d_17\">\n    <path clip-path=\"url(#p4b61d09ea3)\" d=\"M 30.103125 49.657422 \nL 32.075852 113.900446 \nL 34.04858 124.200702 \nL 36.021307 129.423476 \nL 37.994034 132.728711 \nL 39.966761 135.130191 \nL 41.939489 136.905577 \nL 43.912216 138.314865 \nL 45.884943 139.492457 \nL 47.85767 140.477929 \nL 49.830398 141.344547 \nL 51.803125 142.052925 \nL 53.775852 142.699017 \nL 55.74858 143.318395 \nL 57.721307 143.807848 \nL 59.694034 144.291213 \nL 61.666761 144.718904 \nL 63.639489 145.145176 \nL 65.612216 145.457917 \nL 67.584943 145.816969 \nL 69.55767 146.16051 \nL 71.530398 146.385719 \nL 73.503125 146.711014 \nL 75.475852 146.926766 \nL 77.44858 147.163709 \nL 79.421307 147.390541 \nL 81.394034 147.605767 \nL 83.366761 147.812955 \nL 85.339489 148.006507 \nL 87.312216 148.198755 \nL 89.284943 148.384465 \nL 91.25767 148.542176 \nL 93.230398 148.705748 \nL 95.203125 148.855806 \nL 97.175852 149.010432 \nL 99.14858 149.175703 \nL 101.121307 149.293516 \nL 103.094034 149.460658 \nL 105.066761 149.536147 \nL 107.039489 149.688765 \nL 109.012216 149.796405 \nL 110.984943 149.910906 \nL 112.95767 150.029029 \nL 114.930398 150.146683 \nL 116.903125 150.242638 \nL 118.875852 150.342836 \nL 120.84858 150.458522 \nL 122.821307 150.534331 \nL 124.794034 150.659791 \nL 126.766761 150.71457 \nL 128.739489 150.817562 \nL 130.712216 150.91075 \nL 132.684943 150.964505 \nL 134.65767 151.053927 \nL 136.630398 151.13834 \nL 138.603125 151.20499 \nL 140.575852 151.287132 \nL 142.54858 151.365732 \nL 144.521307 151.457825 \nL 146.494034 151.498823 \nL 148.466761 151.581272 \nL 150.439489 151.636093 \nL 152.412216 151.702326 \nL 154.384943 151.76899 \nL 156.35767 151.828088 \nL 158.330398 151.88938 \nL 160.303125 151.980077 \nL 162.275852 152.015312 \nL 164.24858 152.069883 \nL 166.221307 152.160661 \nL 168.194034 152.212597 \nL 170.166761 152.237106 \nL 172.139489 152.306197 \nL 174.112216 152.357597 \nL 176.084943 152.389063 \nL 178.05767 152.474733 \nL 180.030398 152.532708 \nL 182.003125 152.556229 \nL 183.975852 152.598571 \nL 185.94858 152.656464 \nL 187.921307 152.713431 \nL 189.894034 152.748669 \nL 191.866761 152.810849 \nL 193.839489 152.840793 \nL 195.812216 152.879009 \nL 197.784943 152.948209 \nL 199.75767 152.978927 \nL 201.730398 153.039675 \nL 203.703125 153.067237 \nL 205.675852 153.124281 \nL 207.64858 153.160826 \nL 209.621307 153.202237 \nL 211.594034 153.2379 \nL 213.566761 153.266043 \nL 215.539489 153.315843 \nL 217.512216 153.362853 \nL 219.484943 153.393621 \nL 221.45767 153.410834 \nL 223.430398 153.474195 \nL 225.403125 153.48335 \n\" style=\"fill:none;stroke:#1f77b4;stroke-linecap:square;stroke-width:1.5;\"/>\n   </g>\n   <g id=\"line2d_18\">\n    <path clip-path=\"url(#p4b61d09ea3)\" d=\"M 30.103125 20.51065 \nL 32.075852 10.18225 \nL 34.04858 8.185275 \nL 36.021307 7.0792 \nL 37.994034 6.30155 \nL 39.966761 5.640925 \nL 41.939489 5.1464 \nL 43.912216 4.71605 \nL 45.884943 4.4216 \nL 47.85767 4.146025 \nL 49.830398 3.8629 \nL 51.803125 3.738325 \nL 53.775852 3.519375 \nL 55.74858 3.353275 \nL 57.721307 3.22115 \nL 59.694034 3.111675 \nL 61.666761 2.972 \nL 63.639489 2.847425 \nL 65.612216 2.749275 \nL 67.584943 2.711525 \nL 69.55767 2.67 \nL 71.530398 2.552975 \nL 73.503125 2.4284 \nL 75.475852 2.3529 \nL 77.44858 2.281175 \nL 79.421307 2.3076 \nL 81.394034 2.235875 \nL 83.366761 2.07355 \nL 85.339489 2.02825 \nL 87.312216 2.054675 \nL 89.284943 1.915 \nL 91.25767 1.90745 \nL 93.230398 1.820625 \nL 95.203125 1.797975 \nL 97.175852 1.692275 \nL 99.14858 1.78665 \nL 101.121307 1.609225 \nL 103.094034 1.5979 \nL 105.066761 1.571475 \nL 107.039489 1.541275 \nL 109.012216 1.518625 \nL 110.984943 1.4016 \nL 112.95767 1.458225 \nL 114.930398 1.360075 \nL 116.903125 1.390275 \nL 118.875852 1.299675 \nL 120.84858 1.269475 \nL 122.821307 1.311 \nL 124.794034 1.2959 \nL 126.766761 1.2355 \nL 128.739489 1.156225 \nL 130.712216 1.22795 \nL 132.684943 1.18265 \nL 134.65767 1.1298 \nL 136.630398 1.050525 \nL 138.603125 1.0694 \nL 140.575852 1.12225 \nL 142.54858 1.01655 \nL 144.521307 1.04675 \nL 146.494034 1.0241 \nL 148.466761 0.937275 \nL 150.439489 0.9033 \nL 152.412216 0.839125 \nL 154.384943 0.85045 \nL 156.35767 0.94105 \nL 158.330398 0.8278 \nL 160.303125 0.884425 \nL 162.275852 0.801375 \nL 164.24858 0.7976 \nL 166.221307 0.854225 \nL 168.194034 0.707 \nL 170.166761 0.74475 \nL 172.139489 0.718325 \nL 174.112216 0.756075 \nL 176.084943 0.74475 \nL 178.05767 0.748525 \nL 180.030398 0.642825 \nL 182.003125 0.6315 \nL 183.975852 0.71455 \nL 185.94858 0.60885 \nL 187.921307 0.6013 \nL 189.894034 0.5258 \nL 191.866761 0.6164 \nL 193.839489 0.54845 \nL 195.812216 0.56355 \nL 197.784943 0.506925 \nL 199.75767 0.454075 \nL 201.730398 0.529575 \nL 203.703125 0.552225 \nL 205.675852 0.5862 \nL 207.64858 0.4805 \nL 209.621307 0.50315 \nL 211.594034 0.2842 \nL 213.566761 0.393675 \nL 215.539489 0.408775 \nL 217.512216 0.333275 \nL 219.484943 0.378575 \nL 221.45767 0.3597 \nL 223.430398 0.325725 \nL 225.403125 0.340825 \n\" style=\"fill:none;stroke:#bf00bf;stroke-dasharray:5.55,2.4;stroke-dashoffset:0;stroke-width:1.5;\"/>\n   </g>\n   <g id=\"line2d_19\">\n    <path clip-path=\"url(#p4b61d09ea3)\" d=\"M 30.103125 9.9633 \nL 32.075852 7.44915 \nL 34.04858 5.9769 \nL 36.021307 5.388 \nL 37.994034 4.59525 \nL 39.966761 4.0743 \nL 41.939489 3.82515 \nL 43.912216 3.3495 \nL 45.884943 3.05505 \nL 47.85767 3.19095 \nL 49.830398 3.0324 \nL 51.803125 3.123 \nL 53.775852 3.10035 \nL 55.74858 2.87385 \nL 57.721307 2.8965 \nL 59.694034 2.4888 \nL 61.666761 2.64735 \nL 63.639489 2.51145 \nL 65.612216 2.55675 \nL 67.584943 2.46615 \nL 69.55767 2.37555 \nL 71.530398 2.2623 \nL 73.503125 2.33025 \nL 75.475852 2.0811 \nL 77.44858 2.3076 \nL 79.421307 2.4435 \nL 81.394034 2.3076 \nL 83.366761 2.28495 \nL 85.339489 1.9905 \nL 87.312216 2.33025 \nL 89.284943 1.96785 \nL 91.25767 2.14905 \nL 93.230398 2.14905 \nL 95.203125 2.1264 \nL 97.175852 2.1717 \nL 99.14858 2.0358 \nL 101.121307 1.9452 \nL 103.094034 2.0358 \nL 105.066761 1.92255 \nL 107.039489 1.8999 \nL 109.012216 1.92255 \nL 110.984943 1.96785 \nL 112.95767 1.96785 \nL 114.930398 1.87725 \nL 116.903125 2.0358 \nL 118.875852 1.9905 \nL 120.84858 1.8546 \nL 122.821307 2.0358 \nL 124.794034 2.05845 \nL 126.766761 1.74135 \nL 128.739489 1.92255 \nL 130.712216 1.74135 \nL 132.684943 1.8093 \nL 134.65767 1.8093 \nL 136.630398 1.6734 \nL 138.603125 1.69605 \nL 140.575852 1.65075 \nL 142.54858 2.01315 \nL 144.521307 1.87725 \nL 146.494034 1.8093 \nL 148.466761 1.5828 \nL 150.439489 1.8546 \nL 152.412216 1.7187 \nL 154.384943 2.19435 \nL 156.35767 2.05845 \nL 158.330398 1.78665 \nL 160.303125 1.92255 \nL 162.275852 1.8093 \nL 164.24858 1.83195 \nL 166.221307 1.8546 \nL 168.194034 1.764 \nL 170.166761 1.83195 \nL 172.139489 1.8093 \nL 174.112216 1.78665 \nL 176.084943 1.78665 \nL 178.05767 1.5375 \nL 180.030398 1.78665 \nL 182.003125 1.8093 \nL 183.975852 1.7187 \nL 185.94858 1.65075 \nL 187.921307 1.6281 \nL 189.894034 1.5375 \nL 191.866761 1.74135 \nL 193.839489 1.6281 \nL 195.812216 1.60545 \nL 197.784943 1.8093 \nL 199.75767 1.4016 \nL 201.730398 1.65075 \nL 203.703125 1.5375 \nL 205.675852 1.56015 \nL 207.64858 1.5375 \nL 209.621307 1.8093 \nL 211.594034 1.4922 \nL 213.566761 1.6281 \nL 215.539489 1.51485 \nL 217.512216 1.5375 \nL 219.484943 1.56015 \nL 221.45767 1.69605 \nL 223.430398 1.46955 \nL 225.403125 1.83195 \n\" style=\"fill:none;stroke:#008000;stroke-dasharray:9.6,2.4,1.5,2.4;stroke-dashoffset:0;stroke-width:1.5;\"/>\n   </g>\n   <g id=\"patch_3\">\n    <path d=\"M 30.103125 143.1 \nL 30.103125 7.2 \n\" style=\"fill:none;stroke:#000000;stroke-linecap:square;stroke-linejoin:miter;stroke-width:0.8;\"/>\n   </g>\n   <g id=\"patch_4\">\n    <path d=\"M 225.403125 143.1 \nL 225.403125 7.2 \n\" style=\"fill:none;stroke:#000000;stroke-linecap:square;stroke-linejoin:miter;stroke-width:0.8;\"/>\n   </g>\n   <g id=\"patch_5\">\n    <path d=\"M 30.103125 143.1 \nL 225.403125 143.1 \n\" style=\"fill:none;stroke:#000000;stroke-linecap:square;stroke-linejoin:miter;stroke-width:0.8;\"/>\n   </g>\n   <g id=\"patch_6\">\n    <path d=\"M 30.103125 7.2 \nL 225.403125 7.2 \n\" style=\"fill:none;stroke:#000000;stroke-linecap:square;stroke-linejoin:miter;stroke-width:0.8;\"/>\n   </g>\n   <g id=\"legend_1\">\n    <g id=\"patch_7\">\n     <path d=\"M 140.634375 59.234375 \nL 218.403125 59.234375 \nQ 220.403125 59.234375 220.403125 57.234375 \nL 220.403125 14.2 \nQ 220.403125 12.2 218.403125 12.2 \nL 140.634375 12.2 \nQ 138.634375 12.2 138.634375 14.2 \nL 138.634375 57.234375 \nQ 138.634375 59.234375 140.634375 59.234375 \nz\n\" style=\"fill:#ffffff;opacity:0.8;stroke:#cccccc;stroke-linejoin:miter;\"/>\n    </g>\n    <g id=\"line2d_20\">\n     <path d=\"M 142.634375 20.298438 \nL 162.634375 20.298438 \n\" style=\"fill:none;stroke:#1f77b4;stroke-linecap:square;stroke-width:1.5;\"/>\n    </g>\n    <g id=\"line2d_21\"/>\n    <g id=\"text_10\">\n     <!-- train loss -->\n     <defs>\n      <path d=\"M 18.3125 70.21875 \nL 18.3125 54.6875 \nL 36.8125 54.6875 \nL 36.8125 47.703125 \nL 18.3125 47.703125 \nL 18.3125 18.015625 \nQ 18.3125 11.328125 20.140625 9.421875 \nQ 21.96875 7.515625 27.59375 7.515625 \nL 36.8125 7.515625 \nL 36.8125 0 \nL 27.59375 0 \nQ 17.1875 0 13.234375 3.875 \nQ 9.28125 7.765625 9.28125 18.015625 \nL 9.28125 47.703125 \nL 2.6875 47.703125 \nL 2.6875 54.6875 \nL 9.28125 54.6875 \nL 9.28125 70.21875 \nz\n\" id=\"DejaVuSans-116\"/>\n      <path d=\"M 41.109375 46.296875 \nQ 39.59375 47.171875 37.8125 47.578125 \nQ 36.03125 48 33.890625 48 \nQ 26.265625 48 22.1875 43.046875 \nQ 18.109375 38.09375 18.109375 28.8125 \nL 18.109375 0 \nL 9.078125 0 \nL 9.078125 54.6875 \nL 18.109375 54.6875 \nL 18.109375 46.1875 \nQ 20.953125 51.171875 25.484375 53.578125 \nQ 30.03125 56 36.53125 56 \nQ 37.453125 56 38.578125 55.875 \nQ 39.703125 55.765625 41.0625 55.515625 \nz\n\" id=\"DejaVuSans-114\"/>\n      <path d=\"M 34.28125 27.484375 \nQ 23.390625 27.484375 19.1875 25 \nQ 14.984375 22.515625 14.984375 16.5 \nQ 14.984375 11.71875 18.140625 8.90625 \nQ 21.296875 6.109375 26.703125 6.109375 \nQ 34.1875 6.109375 38.703125 11.40625 \nQ 43.21875 16.703125 43.21875 25.484375 \nL 43.21875 27.484375 \nz\nM 52.203125 31.203125 \nL 52.203125 0 \nL 43.21875 0 \nL 43.21875 8.296875 \nQ 40.140625 3.328125 35.546875 0.953125 \nQ 30.953125 -1.421875 24.3125 -1.421875 \nQ 15.921875 -1.421875 10.953125 3.296875 \nQ 6 8.015625 6 15.921875 \nQ 6 25.140625 12.171875 29.828125 \nQ 18.359375 34.515625 30.609375 34.515625 \nL 43.21875 34.515625 \nL 43.21875 35.40625 \nQ 43.21875 41.609375 39.140625 45 \nQ 35.0625 48.390625 27.6875 48.390625 \nQ 23 48.390625 18.546875 47.265625 \nQ 14.109375 46.140625 10.015625 43.890625 \nL 10.015625 52.203125 \nQ 14.9375 54.109375 19.578125 55.046875 \nQ 24.21875 56 28.609375 56 \nQ 40.484375 56 46.34375 49.84375 \nQ 52.203125 43.703125 52.203125 31.203125 \nz\n\" id=\"DejaVuSans-97\"/>\n      <path d=\"M 9.421875 54.6875 \nL 18.40625 54.6875 \nL 18.40625 0 \nL 9.421875 0 \nz\nM 9.421875 75.984375 \nL 18.40625 75.984375 \nL 18.40625 64.59375 \nL 9.421875 64.59375 \nz\n\" id=\"DejaVuSans-105\"/>\n      <path d=\"M 54.890625 33.015625 \nL 54.890625 0 \nL 45.90625 0 \nL 45.90625 32.71875 \nQ 45.90625 40.484375 42.875 44.328125 \nQ 39.84375 48.1875 33.796875 48.1875 \nQ 26.515625 48.1875 22.3125 43.546875 \nQ 18.109375 38.921875 18.109375 30.90625 \nL 18.109375 0 \nL 9.078125 0 \nL 9.078125 54.6875 \nL 18.109375 54.6875 \nL 18.109375 46.1875 \nQ 21.34375 51.125 25.703125 53.5625 \nQ 30.078125 56 35.796875 56 \nQ 45.21875 56 50.046875 50.171875 \nQ 54.890625 44.34375 54.890625 33.015625 \nz\n\" id=\"DejaVuSans-110\"/>\n      <path id=\"DejaVuSans-32\"/>\n      <path d=\"M 9.421875 75.984375 \nL 18.40625 75.984375 \nL 18.40625 0 \nL 9.421875 0 \nz\n\" id=\"DejaVuSans-108\"/>\n      <path d=\"M 44.28125 53.078125 \nL 44.28125 44.578125 \nQ 40.484375 46.53125 36.375 47.5 \nQ 32.28125 48.484375 27.875 48.484375 \nQ 21.1875 48.484375 17.84375 46.4375 \nQ 14.5 44.390625 14.5 40.28125 \nQ 14.5 37.15625 16.890625 35.375 \nQ 19.28125 33.59375 26.515625 31.984375 \nL 29.59375 31.296875 \nQ 39.15625 29.25 43.1875 25.515625 \nQ 47.21875 21.78125 47.21875 15.09375 \nQ 47.21875 7.46875 41.1875 3.015625 \nQ 35.15625 -1.421875 24.609375 -1.421875 \nQ 20.21875 -1.421875 15.453125 -0.5625 \nQ 10.6875 0.296875 5.421875 2 \nL 5.421875 11.28125 \nQ 10.40625 8.6875 15.234375 7.390625 \nQ 20.0625 6.109375 24.8125 6.109375 \nQ 31.15625 6.109375 34.5625 8.28125 \nQ 37.984375 10.453125 37.984375 14.40625 \nQ 37.984375 18.0625 35.515625 20.015625 \nQ 33.0625 21.96875 24.703125 23.78125 \nL 21.578125 24.515625 \nQ 13.234375 26.265625 9.515625 29.90625 \nQ 5.8125 33.546875 5.8125 39.890625 \nQ 5.8125 47.609375 11.28125 51.796875 \nQ 16.75 56 26.8125 56 \nQ 31.78125 56 36.171875 55.265625 \nQ 40.578125 54.546875 44.28125 53.078125 \nz\n\" id=\"DejaVuSans-115\"/>\n     </defs>\n     <g transform=\"translate(170.634375 23.798438)scale(0.1 -0.1)\">\n      <use xlink:href=\"#DejaVuSans-116\"/>\n      <use x=\"39.208984\" xlink:href=\"#DejaVuSans-114\"/>\n      <use x=\"80.322266\" xlink:href=\"#DejaVuSans-97\"/>\n      <use x=\"141.601562\" xlink:href=\"#DejaVuSans-105\"/>\n      <use x=\"169.384766\" xlink:href=\"#DejaVuSans-110\"/>\n      <use x=\"232.763672\" xlink:href=\"#DejaVuSans-32\"/>\n      <use x=\"264.550781\" xlink:href=\"#DejaVuSans-108\"/>\n      <use x=\"292.333984\" xlink:href=\"#DejaVuSans-111\"/>\n      <use x=\"353.515625\" xlink:href=\"#DejaVuSans-115\"/>\n      <use x=\"405.615234\" xlink:href=\"#DejaVuSans-115\"/>\n     </g>\n    </g>\n    <g id=\"line2d_22\">\n     <path d=\"M 142.634375 34.976562 \nL 162.634375 34.976562 \n\" style=\"fill:none;stroke:#bf00bf;stroke-dasharray:5.55,2.4;stroke-dashoffset:0;stroke-width:1.5;\"/>\n    </g>\n    <g id=\"line2d_23\"/>\n    <g id=\"text_11\">\n     <!-- train acc -->\n     <g transform=\"translate(170.634375 38.476562)scale(0.1 -0.1)\">\n      <use xlink:href=\"#DejaVuSans-116\"/>\n      <use x=\"39.208984\" xlink:href=\"#DejaVuSans-114\"/>\n      <use x=\"80.322266\" xlink:href=\"#DejaVuSans-97\"/>\n      <use x=\"141.601562\" xlink:href=\"#DejaVuSans-105\"/>\n      <use x=\"169.384766\" xlink:href=\"#DejaVuSans-110\"/>\n      <use x=\"232.763672\" xlink:href=\"#DejaVuSans-32\"/>\n      <use x=\"264.550781\" xlink:href=\"#DejaVuSans-97\"/>\n      <use x=\"325.830078\" xlink:href=\"#DejaVuSans-99\"/>\n      <use x=\"380.810547\" xlink:href=\"#DejaVuSans-99\"/>\n     </g>\n    </g>\n    <g id=\"line2d_24\">\n     <path d=\"M 142.634375 49.654688 \nL 162.634375 49.654688 \n\" style=\"fill:none;stroke:#008000;stroke-dasharray:9.6,2.4,1.5,2.4;stroke-dashoffset:0;stroke-width:1.5;\"/>\n    </g>\n    <g id=\"line2d_25\"/>\n    <g id=\"text_12\">\n     <!-- test acc -->\n     <g transform=\"translate(170.634375 53.154688)scale(0.1 -0.1)\">\n      <use xlink:href=\"#DejaVuSans-116\"/>\n      <use x=\"39.208984\" xlink:href=\"#DejaVuSans-101\"/>\n      <use x=\"100.732422\" xlink:href=\"#DejaVuSans-115\"/>\n      <use x=\"152.832031\" xlink:href=\"#DejaVuSans-116\"/>\n      <use x=\"192.041016\" xlink:href=\"#DejaVuSans-32\"/>\n      <use x=\"223.828125\" xlink:href=\"#DejaVuSans-97\"/>\n      <use x=\"285.107422\" xlink:href=\"#DejaVuSans-99\"/>\n      <use x=\"340.087891\" xlink:href=\"#DejaVuSans-99\"/>\n     </g>\n    </g>\n   </g>\n  </g>\n </g>\n <defs>\n  <clipPath id=\"p4b61d09ea3\">\n   <rect height=\"135.9\" width=\"195.3\" x=\"30.103125\" y=\"7.2\"/>\n  </clipPath>\n </defs>\n</svg>\n"
          },
          "metadata": {
            "needs_background": "light"
          }
        }
      ]
    },
    {
      "cell_type": "markdown",
      "metadata": {
        "id": "5k0tVuW9ji7x"
      },
      "source": [
        "**5. Training Result**"
      ]
    },
    {
      "cell_type": "code",
      "metadata": {
        "id": "lW7en7eirMpd",
        "colab": {
          "base_uri": "https://localhost:8080/"
        },
        "outputId": "f54c622f-8861-40cd-f6fc-4aa286927899"
      },
      "source": [
        "# Test Accuracy\n",
        "for x,y in test_iter:\n",
        "  pred = net(x)\n",
        "  test_pred = torch.argmax(pred, dim=1)\n",
        "  break\n",
        "\n",
        "result = (y == test_pred)\n",
        "accuracy = result.sum()/len(result)\n",
        "print('>> Test Accuracy : ',accuracy.item()*100,'%')\n",
        "\n",
        "# Train Accuracy\n",
        "for x,y in train_iter:\n",
        "  pred = net(x)\n",
        "  train_pred = torch.argmax(pred, dim=1)\n",
        "  break\n",
        "\n",
        "result = (y == train_pred)\n",
        "accuracy = result.sum()/len(result)\n",
        "print('>> Train Accuracy : ',accuracy.item()*100,'%')"
      ],
      "execution_count": null,
      "outputs": [
        {
          "output_type": "stream",
          "name": "stdout",
          "text": [
            ">> Test Accuracy :  94.53125 %\n",
            ">> Train Accuracy :  94.53125 %\n"
          ]
        }
      ]
    },
    {
      "cell_type": "markdown",
      "metadata": {
        "id": "zeoBLfCMab38"
      },
      "source": [
        "> ### **4-2. you may increase or decrease it as long as the result is good, which is your own decision.**"
      ]
    },
    {
      "cell_type": "markdown",
      "metadata": {
        "id": "FWE-9ZrtbDt8"
      },
      "source": [
        "**1. Set my own parameters (takes about 8 min)**"
      ]
    },
    {
      "cell_type": "code",
      "metadata": {
        "colab": {
          "base_uri": "https://localhost:8080/",
          "height": 278
        },
        "id": "-HIfEYfvbGsK",
        "outputId": "9a767078-1b3c-4db1-af0a-263be6c51911"
      },
      "source": [
        "# Batch size : 128 / Learning rate : 0.4 / Epochs : 70\n",
        "batch_size = 128\n",
        "train_iter, test_iter = load_data_mnist(batch_size)\n",
        "\n",
        "net = nn.Sequential(nn.Flatten(), nn.Linear(784, 10))\n",
        "def init_weights(m):\n",
        "    if type(m) == nn.Linear:\n",
        "        nn.init.normal_(m.weight, std=0.01)\n",
        "net.apply(init_weights);\n",
        "\n",
        "loss = nn.CrossEntropyLoss()\n",
        "trainer = torch.optim.SGD(net.parameters(), lr=0.4)\n",
        "\n",
        "num_epochs = 70\n",
        "my_train_ch3(net, train_iter, test_iter, loss, num_epochs, trainer)"
      ],
      "execution_count": null,
      "outputs": [
        {
          "output_type": "stream",
          "name": "stdout",
          "text": [
            "Final train loss : 0.2396\n"
          ]
        },
        {
          "output_type": "display_data",
          "data": {
            "text/plain": [
              "<Figure size 252x180 with 1 Axes>"
            ],
            "image/svg+xml": "<?xml version=\"1.0\" encoding=\"utf-8\" standalone=\"no\"?>\n<!DOCTYPE svg PUBLIC \"-//W3C//DTD SVG 1.1//EN\"\n  \"http://www.w3.org/Graphics/SVG/1.1/DTD/svg11.dtd\">\n<!-- Created with matplotlib (https://matplotlib.org/) -->\n<svg height=\"180.65625pt\" version=\"1.1\" viewBox=\"0 0 232.603125 180.65625\" width=\"232.603125pt\" xmlns=\"http://www.w3.org/2000/svg\" xmlns:xlink=\"http://www.w3.org/1999/xlink\">\n <defs>\n  <style type=\"text/css\">\n*{stroke-linecap:butt;stroke-linejoin:round;}\n  </style>\n </defs>\n <g id=\"figure_1\">\n  <g id=\"patch_1\">\n   <path d=\"M 0 180.65625 \nL 232.603125 180.65625 \nL 232.603125 0 \nL 0 0 \nz\n\" style=\"fill:none;\"/>\n  </g>\n  <g id=\"axes_1\">\n   <g id=\"patch_2\">\n    <path d=\"M 30.103125 143.1 \nL 225.403125 143.1 \nL 225.403125 7.2 \nL 30.103125 7.2 \nz\n\" style=\"fill:#ffffff;\"/>\n   </g>\n   <g id=\"matplotlib.axis_1\">\n    <g id=\"xtick_1\">\n     <g id=\"line2d_1\">\n      <path clip-path=\"url(#pac7b89df33)\" d=\"M 83.881386 143.1 \nL 83.881386 7.2 \n\" style=\"fill:none;stroke:#b0b0b0;stroke-linecap:square;stroke-width:0.8;\"/>\n     </g>\n     <g id=\"line2d_2\">\n      <defs>\n       <path d=\"M 0 0 \nL 0 3.5 \n\" id=\"m6580574750\" style=\"stroke:#000000;stroke-width:0.8;\"/>\n      </defs>\n      <g>\n       <use style=\"stroke:#000000;stroke-width:0.8;\" x=\"83.881386\" xlink:href=\"#m6580574750\" y=\"143.1\"/>\n      </g>\n     </g>\n     <g id=\"text_1\">\n      <!-- 20 -->\n      <defs>\n       <path d=\"M 19.1875 8.296875 \nL 53.609375 8.296875 \nL 53.609375 0 \nL 7.328125 0 \nL 7.328125 8.296875 \nQ 12.9375 14.109375 22.625 23.890625 \nQ 32.328125 33.6875 34.8125 36.53125 \nQ 39.546875 41.84375 41.421875 45.53125 \nQ 43.3125 49.21875 43.3125 52.78125 \nQ 43.3125 58.59375 39.234375 62.25 \nQ 35.15625 65.921875 28.609375 65.921875 \nQ 23.96875 65.921875 18.8125 64.3125 \nQ 13.671875 62.703125 7.8125 59.421875 \nL 7.8125 69.390625 \nQ 13.765625 71.78125 18.9375 73 \nQ 24.125 74.21875 28.421875 74.21875 \nQ 39.75 74.21875 46.484375 68.546875 \nQ 53.21875 62.890625 53.21875 53.421875 \nQ 53.21875 48.921875 51.53125 44.890625 \nQ 49.859375 40.875 45.40625 35.40625 \nQ 44.1875 33.984375 37.640625 27.21875 \nQ 31.109375 20.453125 19.1875 8.296875 \nz\n\" id=\"DejaVuSans-50\"/>\n       <path d=\"M 31.78125 66.40625 \nQ 24.171875 66.40625 20.328125 58.90625 \nQ 16.5 51.421875 16.5 36.375 \nQ 16.5 21.390625 20.328125 13.890625 \nQ 24.171875 6.390625 31.78125 6.390625 \nQ 39.453125 6.390625 43.28125 13.890625 \nQ 47.125 21.390625 47.125 36.375 \nQ 47.125 51.421875 43.28125 58.90625 \nQ 39.453125 66.40625 31.78125 66.40625 \nz\nM 31.78125 74.21875 \nQ 44.046875 74.21875 50.515625 64.515625 \nQ 56.984375 54.828125 56.984375 36.375 \nQ 56.984375 17.96875 50.515625 8.265625 \nQ 44.046875 -1.421875 31.78125 -1.421875 \nQ 19.53125 -1.421875 13.0625 8.265625 \nQ 6.59375 17.96875 6.59375 36.375 \nQ 6.59375 54.828125 13.0625 64.515625 \nQ 19.53125 74.21875 31.78125 74.21875 \nz\n\" id=\"DejaVuSans-48\"/>\n      </defs>\n      <g transform=\"translate(77.518886 157.698438)scale(0.1 -0.1)\">\n       <use xlink:href=\"#DejaVuSans-50\"/>\n       <use x=\"63.623047\" xlink:href=\"#DejaVuSans-48\"/>\n      </g>\n     </g>\n    </g>\n    <g id=\"xtick_2\">\n     <g id=\"line2d_3\">\n      <path clip-path=\"url(#pac7b89df33)\" d=\"M 140.490082 143.1 \nL 140.490082 7.2 \n\" style=\"fill:none;stroke:#b0b0b0;stroke-linecap:square;stroke-width:0.8;\"/>\n     </g>\n     <g id=\"line2d_4\">\n      <g>\n       <use style=\"stroke:#000000;stroke-width:0.8;\" x=\"140.490082\" xlink:href=\"#m6580574750\" y=\"143.1\"/>\n      </g>\n     </g>\n     <g id=\"text_2\">\n      <!-- 40 -->\n      <defs>\n       <path d=\"M 37.796875 64.3125 \nL 12.890625 25.390625 \nL 37.796875 25.390625 \nz\nM 35.203125 72.90625 \nL 47.609375 72.90625 \nL 47.609375 25.390625 \nL 58.015625 25.390625 \nL 58.015625 17.1875 \nL 47.609375 17.1875 \nL 47.609375 0 \nL 37.796875 0 \nL 37.796875 17.1875 \nL 4.890625 17.1875 \nL 4.890625 26.703125 \nz\n\" id=\"DejaVuSans-52\"/>\n      </defs>\n      <g transform=\"translate(134.127582 157.698438)scale(0.1 -0.1)\">\n       <use xlink:href=\"#DejaVuSans-52\"/>\n       <use x=\"63.623047\" xlink:href=\"#DejaVuSans-48\"/>\n      </g>\n     </g>\n    </g>\n    <g id=\"xtick_3\">\n     <g id=\"line2d_5\">\n      <path clip-path=\"url(#pac7b89df33)\" d=\"M 197.098777 143.1 \nL 197.098777 7.2 \n\" style=\"fill:none;stroke:#b0b0b0;stroke-linecap:square;stroke-width:0.8;\"/>\n     </g>\n     <g id=\"line2d_6\">\n      <g>\n       <use style=\"stroke:#000000;stroke-width:0.8;\" x=\"197.098777\" xlink:href=\"#m6580574750\" y=\"143.1\"/>\n      </g>\n     </g>\n     <g id=\"text_3\">\n      <!-- 60 -->\n      <defs>\n       <path d=\"M 33.015625 40.375 \nQ 26.375 40.375 22.484375 35.828125 \nQ 18.609375 31.296875 18.609375 23.390625 \nQ 18.609375 15.53125 22.484375 10.953125 \nQ 26.375 6.390625 33.015625 6.390625 \nQ 39.65625 6.390625 43.53125 10.953125 \nQ 47.40625 15.53125 47.40625 23.390625 \nQ 47.40625 31.296875 43.53125 35.828125 \nQ 39.65625 40.375 33.015625 40.375 \nz\nM 52.59375 71.296875 \nL 52.59375 62.3125 \nQ 48.875 64.0625 45.09375 64.984375 \nQ 41.3125 65.921875 37.59375 65.921875 \nQ 27.828125 65.921875 22.671875 59.328125 \nQ 17.53125 52.734375 16.796875 39.40625 \nQ 19.671875 43.65625 24.015625 45.921875 \nQ 28.375 48.1875 33.59375 48.1875 \nQ 44.578125 48.1875 50.953125 41.515625 \nQ 57.328125 34.859375 57.328125 23.390625 \nQ 57.328125 12.15625 50.6875 5.359375 \nQ 44.046875 -1.421875 33.015625 -1.421875 \nQ 20.359375 -1.421875 13.671875 8.265625 \nQ 6.984375 17.96875 6.984375 36.375 \nQ 6.984375 53.65625 15.1875 63.9375 \nQ 23.390625 74.21875 37.203125 74.21875 \nQ 40.921875 74.21875 44.703125 73.484375 \nQ 48.484375 72.75 52.59375 71.296875 \nz\n\" id=\"DejaVuSans-54\"/>\n      </defs>\n      <g transform=\"translate(190.736277 157.698438)scale(0.1 -0.1)\">\n       <use xlink:href=\"#DejaVuSans-54\"/>\n       <use x=\"63.623047\" xlink:href=\"#DejaVuSans-48\"/>\n      </g>\n     </g>\n    </g>\n    <g id=\"text_4\">\n     <!-- epoch -->\n     <defs>\n      <path d=\"M 56.203125 29.59375 \nL 56.203125 25.203125 \nL 14.890625 25.203125 \nQ 15.484375 15.921875 20.484375 11.0625 \nQ 25.484375 6.203125 34.421875 6.203125 \nQ 39.59375 6.203125 44.453125 7.46875 \nQ 49.3125 8.734375 54.109375 11.28125 \nL 54.109375 2.78125 \nQ 49.265625 0.734375 44.1875 -0.34375 \nQ 39.109375 -1.421875 33.890625 -1.421875 \nQ 20.796875 -1.421875 13.15625 6.1875 \nQ 5.515625 13.8125 5.515625 26.8125 \nQ 5.515625 40.234375 12.765625 48.109375 \nQ 20.015625 56 32.328125 56 \nQ 43.359375 56 49.78125 48.890625 \nQ 56.203125 41.796875 56.203125 29.59375 \nz\nM 47.21875 32.234375 \nQ 47.125 39.59375 43.09375 43.984375 \nQ 39.0625 48.390625 32.421875 48.390625 \nQ 24.90625 48.390625 20.390625 44.140625 \nQ 15.875 39.890625 15.1875 32.171875 \nz\n\" id=\"DejaVuSans-101\"/>\n      <path d=\"M 18.109375 8.203125 \nL 18.109375 -20.796875 \nL 9.078125 -20.796875 \nL 9.078125 54.6875 \nL 18.109375 54.6875 \nL 18.109375 46.390625 \nQ 20.953125 51.265625 25.265625 53.625 \nQ 29.59375 56 35.59375 56 \nQ 45.5625 56 51.78125 48.09375 \nQ 58.015625 40.1875 58.015625 27.296875 \nQ 58.015625 14.40625 51.78125 6.484375 \nQ 45.5625 -1.421875 35.59375 -1.421875 \nQ 29.59375 -1.421875 25.265625 0.953125 \nQ 20.953125 3.328125 18.109375 8.203125 \nz\nM 48.6875 27.296875 \nQ 48.6875 37.203125 44.609375 42.84375 \nQ 40.53125 48.484375 33.40625 48.484375 \nQ 26.265625 48.484375 22.1875 42.84375 \nQ 18.109375 37.203125 18.109375 27.296875 \nQ 18.109375 17.390625 22.1875 11.75 \nQ 26.265625 6.109375 33.40625 6.109375 \nQ 40.53125 6.109375 44.609375 11.75 \nQ 48.6875 17.390625 48.6875 27.296875 \nz\n\" id=\"DejaVuSans-112\"/>\n      <path d=\"M 30.609375 48.390625 \nQ 23.390625 48.390625 19.1875 42.75 \nQ 14.984375 37.109375 14.984375 27.296875 \nQ 14.984375 17.484375 19.15625 11.84375 \nQ 23.34375 6.203125 30.609375 6.203125 \nQ 37.796875 6.203125 41.984375 11.859375 \nQ 46.1875 17.53125 46.1875 27.296875 \nQ 46.1875 37.015625 41.984375 42.703125 \nQ 37.796875 48.390625 30.609375 48.390625 \nz\nM 30.609375 56 \nQ 42.328125 56 49.015625 48.375 \nQ 55.71875 40.765625 55.71875 27.296875 \nQ 55.71875 13.875 49.015625 6.21875 \nQ 42.328125 -1.421875 30.609375 -1.421875 \nQ 18.84375 -1.421875 12.171875 6.21875 \nQ 5.515625 13.875 5.515625 27.296875 \nQ 5.515625 40.765625 12.171875 48.375 \nQ 18.84375 56 30.609375 56 \nz\n\" id=\"DejaVuSans-111\"/>\n      <path d=\"M 48.78125 52.59375 \nL 48.78125 44.1875 \nQ 44.96875 46.296875 41.140625 47.34375 \nQ 37.3125 48.390625 33.40625 48.390625 \nQ 24.65625 48.390625 19.8125 42.84375 \nQ 14.984375 37.3125 14.984375 27.296875 \nQ 14.984375 17.28125 19.8125 11.734375 \nQ 24.65625 6.203125 33.40625 6.203125 \nQ 37.3125 6.203125 41.140625 7.25 \nQ 44.96875 8.296875 48.78125 10.40625 \nL 48.78125 2.09375 \nQ 45.015625 0.34375 40.984375 -0.53125 \nQ 36.96875 -1.421875 32.421875 -1.421875 \nQ 20.0625 -1.421875 12.78125 6.34375 \nQ 5.515625 14.109375 5.515625 27.296875 \nQ 5.515625 40.671875 12.859375 48.328125 \nQ 20.21875 56 33.015625 56 \nQ 37.15625 56 41.109375 55.140625 \nQ 45.0625 54.296875 48.78125 52.59375 \nz\n\" id=\"DejaVuSans-99\"/>\n      <path d=\"M 54.890625 33.015625 \nL 54.890625 0 \nL 45.90625 0 \nL 45.90625 32.71875 \nQ 45.90625 40.484375 42.875 44.328125 \nQ 39.84375 48.1875 33.796875 48.1875 \nQ 26.515625 48.1875 22.3125 43.546875 \nQ 18.109375 38.921875 18.109375 30.90625 \nL 18.109375 0 \nL 9.078125 0 \nL 9.078125 75.984375 \nL 18.109375 75.984375 \nL 18.109375 46.1875 \nQ 21.34375 51.125 25.703125 53.5625 \nQ 30.078125 56 35.796875 56 \nQ 45.21875 56 50.046875 50.171875 \nQ 54.890625 44.34375 54.890625 33.015625 \nz\n\" id=\"DejaVuSans-104\"/>\n     </defs>\n     <g transform=\"translate(112.525 171.376563)scale(0.1 -0.1)\">\n      <use xlink:href=\"#DejaVuSans-101\"/>\n      <use x=\"61.523438\" xlink:href=\"#DejaVuSans-112\"/>\n      <use x=\"125\" xlink:href=\"#DejaVuSans-111\"/>\n      <use x=\"186.181641\" xlink:href=\"#DejaVuSans-99\"/>\n      <use x=\"241.162109\" xlink:href=\"#DejaVuSans-104\"/>\n     </g>\n    </g>\n   </g>\n   <g id=\"matplotlib.axis_2\">\n    <g id=\"ytick_1\">\n     <g id=\"line2d_7\">\n      <path clip-path=\"url(#pac7b89df33)\" d=\"M 30.103125 120.45 \nL 225.403125 120.45 \n\" style=\"fill:none;stroke:#b0b0b0;stroke-linecap:square;stroke-width:0.8;\"/>\n     </g>\n     <g id=\"line2d_8\">\n      <defs>\n       <path d=\"M 0 0 \nL -3.5 0 \n\" id=\"mb2b189c0d3\" style=\"stroke:#000000;stroke-width:0.8;\"/>\n      </defs>\n      <g>\n       <use style=\"stroke:#000000;stroke-width:0.8;\" x=\"30.103125\" xlink:href=\"#mb2b189c0d3\" y=\"120.45\"/>\n      </g>\n     </g>\n     <g id=\"text_5\">\n      <!-- 0.4 -->\n      <defs>\n       <path d=\"M 10.6875 12.40625 \nL 21 12.40625 \nL 21 0 \nL 10.6875 0 \nz\n\" id=\"DejaVuSans-46\"/>\n      </defs>\n      <g transform=\"translate(7.2 124.249219)scale(0.1 -0.1)\">\n       <use xlink:href=\"#DejaVuSans-48\"/>\n       <use x=\"63.623047\" xlink:href=\"#DejaVuSans-46\"/>\n       <use x=\"95.410156\" xlink:href=\"#DejaVuSans-52\"/>\n      </g>\n     </g>\n    </g>\n    <g id=\"ytick_2\">\n     <g id=\"line2d_9\">\n      <path clip-path=\"url(#pac7b89df33)\" d=\"M 30.103125 75.15 \nL 225.403125 75.15 \n\" style=\"fill:none;stroke:#b0b0b0;stroke-linecap:square;stroke-width:0.8;\"/>\n     </g>\n     <g id=\"line2d_10\">\n      <g>\n       <use style=\"stroke:#000000;stroke-width:0.8;\" x=\"30.103125\" xlink:href=\"#mb2b189c0d3\" y=\"75.15\"/>\n      </g>\n     </g>\n     <g id=\"text_6\">\n      <!-- 0.6 -->\n      <g transform=\"translate(7.2 78.949219)scale(0.1 -0.1)\">\n       <use xlink:href=\"#DejaVuSans-48\"/>\n       <use x=\"63.623047\" xlink:href=\"#DejaVuSans-46\"/>\n       <use x=\"95.410156\" xlink:href=\"#DejaVuSans-54\"/>\n      </g>\n     </g>\n    </g>\n    <g id=\"ytick_3\">\n     <g id=\"line2d_11\">\n      <path clip-path=\"url(#pac7b89df33)\" d=\"M 30.103125 29.85 \nL 225.403125 29.85 \n\" style=\"fill:none;stroke:#b0b0b0;stroke-linecap:square;stroke-width:0.8;\"/>\n     </g>\n     <g id=\"line2d_12\">\n      <g>\n       <use style=\"stroke:#000000;stroke-width:0.8;\" x=\"30.103125\" xlink:href=\"#mb2b189c0d3\" y=\"29.85\"/>\n      </g>\n     </g>\n     <g id=\"text_7\">\n      <!-- 0.8 -->\n      <defs>\n       <path d=\"M 31.78125 34.625 \nQ 24.75 34.625 20.71875 30.859375 \nQ 16.703125 27.09375 16.703125 20.515625 \nQ 16.703125 13.921875 20.71875 10.15625 \nQ 24.75 6.390625 31.78125 6.390625 \nQ 38.8125 6.390625 42.859375 10.171875 \nQ 46.921875 13.96875 46.921875 20.515625 \nQ 46.921875 27.09375 42.890625 30.859375 \nQ 38.875 34.625 31.78125 34.625 \nz\nM 21.921875 38.8125 \nQ 15.578125 40.375 12.03125 44.71875 \nQ 8.5 49.078125 8.5 55.328125 \nQ 8.5 64.0625 14.71875 69.140625 \nQ 20.953125 74.21875 31.78125 74.21875 \nQ 42.671875 74.21875 48.875 69.140625 \nQ 55.078125 64.0625 55.078125 55.328125 \nQ 55.078125 49.078125 51.53125 44.71875 \nQ 48 40.375 41.703125 38.8125 \nQ 48.828125 37.15625 52.796875 32.3125 \nQ 56.78125 27.484375 56.78125 20.515625 \nQ 56.78125 9.90625 50.3125 4.234375 \nQ 43.84375 -1.421875 31.78125 -1.421875 \nQ 19.734375 -1.421875 13.25 4.234375 \nQ 6.78125 9.90625 6.78125 20.515625 \nQ 6.78125 27.484375 10.78125 32.3125 \nQ 14.796875 37.15625 21.921875 38.8125 \nz\nM 18.3125 54.390625 \nQ 18.3125 48.734375 21.84375 45.5625 \nQ 25.390625 42.390625 31.78125 42.390625 \nQ 38.140625 42.390625 41.71875 45.5625 \nQ 45.3125 48.734375 45.3125 54.390625 \nQ 45.3125 60.0625 41.71875 63.234375 \nQ 38.140625 66.40625 31.78125 66.40625 \nQ 25.390625 66.40625 21.84375 63.234375 \nQ 18.3125 60.0625 18.3125 54.390625 \nz\n\" id=\"DejaVuSans-56\"/>\n      </defs>\n      <g transform=\"translate(7.2 33.649219)scale(0.1 -0.1)\">\n       <use xlink:href=\"#DejaVuSans-48\"/>\n       <use x=\"63.623047\" xlink:href=\"#DejaVuSans-46\"/>\n       <use x=\"95.410156\" xlink:href=\"#DejaVuSans-56\"/>\n      </g>\n     </g>\n    </g>\n   </g>\n   <g id=\"line2d_13\">\n    <path clip-path=\"url(#pac7b89df33)\" d=\"M 30.103125 116.523937 \nL 32.93356 140.034234 \nL 35.763995 143.753738 \nL 38.594429 145.838661 \nL 41.424864 146.995646 \nL 44.255299 148.134326 \nL 47.085734 148.926192 \nL 49.916168 149.476836 \nL 52.746603 149.95361 \nL 55.577038 150.513238 \nL 58.407473 150.822169 \nL 61.237908 151.305498 \nL 64.068342 151.54199 \nL 66.898777 151.767033 \nL 69.729212 152.051586 \nL 72.559647 152.266071 \nL 75.390082 152.469306 \nL 78.220516 152.742698 \nL 81.050951 152.87743 \nL 83.881386 153.017824 \nL 86.711821 153.210763 \nL 89.542255 153.517766 \nL 92.37269 153.578124 \nL 95.203125 153.651165 \nL 98.03356 153.948801 \nL 100.863995 153.938411 \nL 103.694429 154.001295 \nL 106.524864 154.256901 \nL 109.355299 154.248508 \nL 112.185734 154.323116 \nL 115.016168 154.421019 \nL 117.846603 154.618328 \nL 120.677038 154.629903 \nL 123.507473 154.757434 \nL 126.337908 154.875746 \nL 129.168342 154.923631 \nL 131.998777 154.914956 \nL 134.829212 155.154126 \nL 137.659647 155.130152 \nL 140.490082 155.199569 \nL 143.320516 155.333908 \nL 146.150951 155.387436 \nL 148.981386 155.33735 \nL 151.811821 155.406598 \nL 154.642255 155.562739 \nL 157.47269 155.5571 \nL 160.303125 155.637973 \nL 163.13356 155.784262 \nL 165.963995 155.791988 \nL 168.794429 155.890205 \nL 171.624864 155.947474 \nL 174.455299 155.862255 \nL 177.285734 156.003595 \nL 180.116168 156.087236 \nL 182.946603 156.130026 \nL 185.777038 156.160024 \nL 188.607473 156.126799 \nL 191.437908 156.277921 \nL 194.268342 156.220486 \nL 197.098777 156.310391 \nL 199.929212 156.33807 \nL 202.759647 156.427115 \nL 205.590082 156.482837 \nL 208.420516 156.503634 \nL 211.250951 156.517125 \nL 214.081386 156.50907 \nL 216.911821 156.673817 \nL 219.742255 156.640642 \nL 222.57269 156.685946 \nL 225.403125 156.77807 \n\" style=\"fill:none;stroke:#1f77b4;stroke-linecap:square;stroke-width:1.5;\"/>\n   </g>\n   <g id=\"line2d_14\">\n    <path clip-path=\"url(#pac7b89df33)\" d=\"M 30.103125 10.87685 \nL 32.93356 4.697175 \nL 35.763995 3.587325 \nL 38.594429 2.824775 \nL 41.424864 2.4888 \nL 44.255299 2.054675 \nL 47.085734 1.87725 \nL 49.916168 1.782875 \nL 52.746603 1.72625 \nL 55.577038 1.511075 \nL 58.407473 1.3563 \nL 61.237908 1.0694 \nL 64.068342 1.012775 \nL 66.898777 0.9939 \nL 69.729212 0.97125 \nL 72.559647 0.899525 \nL 75.390082 0.801375 \nL 78.220516 0.733425 \nL 81.050951 0.801375 \nL 83.881386 0.597525 \nL 86.711821 0.589975 \nL 89.542255 0.469175 \nL 92.37269 0.42765 \nL 95.203125 0.44275 \nL 98.03356 0.371025 \nL 100.863995 0.378575 \nL 103.694429 0.30685 \nL 106.524864 0.167175 \nL 109.355299 0.250225 \nL 112.185734 0.167175 \nL 115.016168 0.1483 \nL 117.846603 0.2389 \nL 120.677038 0.129425 \nL 123.507473 0.144525 \nL 126.337908 -0.021575 \nL 129.168342 -0.0027 \nL 131.998777 0.1181 \nL 134.829212 -0.021575 \nL 137.659647 0.114325 \nL 140.490082 0.08035 \nL 143.320516 -0.22165 \nL 146.150951 0.103 \nL 148.981386 0.00485 \nL 151.811821 -0.01025 \nL 154.642255 0.076575 \nL 157.47269 -0.081975 \nL 160.303125 -0.104625 \nL 163.13356 -0.10085 \nL 165.963995 -0.13105 \nL 168.794429 -0.232975 \nL 171.624864 -0.044225 \nL 174.455299 -0.2443 \nL 177.285734 -0.13105 \nL 180.116168 -0.278275 \nL 182.946603 -0.22165 \nL 185.777038 -0.22165 \nL 188.607473 -0.20655 \nL 191.437908 -0.1688 \nL 194.268342 -0.225425 \nL 197.098777 -0.195225 \nL 199.929212 -0.255625 \nL 202.759647 -0.4104 \nL 205.590082 -0.26695 \nL 208.420516 -0.331125 \nL 211.250951 -0.383975 \nL 214.081386 -0.43305 \nL 216.911821 -0.35755 \nL 219.742255 -0.37265 \nL 222.57269 -0.2594 \nL 225.403125 -0.4859 \n\" style=\"fill:none;stroke:#bf00bf;stroke-dasharray:5.55,2.4;stroke-dashoffset:0;stroke-width:1.5;\"/>\n   </g>\n   <g id=\"line2d_15\">\n    <path clip-path=\"url(#pac7b89df33)\" d=\"M 30.103125 4.09695 \nL 32.93356 3.05505 \nL 35.763995 2.87385 \nL 38.594429 2.4435 \nL 41.424864 3.123 \nL 44.255299 2.96445 \nL 47.085734 2.4888 \nL 49.916168 1.8093 \nL 52.746603 2.19435 \nL 55.577038 2.0811 \nL 58.407473 1.46955 \nL 61.237908 1.69605 \nL 64.068342 1.764 \nL 66.898777 1.6734 \nL 69.729212 1.311 \nL 72.559647 1.96785 \nL 75.390082 2.33025 \nL 78.220516 1.74135 \nL 81.050951 1.5828 \nL 83.881386 1.4016 \nL 86.711821 1.65075 \nL 89.542255 1.4922 \nL 92.37269 1.9905 \nL 95.203125 1.8999 \nL 98.03356 1.78665 \nL 100.863995 1.42425 \nL 103.694429 1.6734 \nL 106.524864 1.9905 \nL 109.355299 1.4922 \nL 112.185734 1.92255 \nL 115.016168 1.8999 \nL 117.846603 1.60545 \nL 120.677038 2.3529 \nL 123.507473 1.8093 \nL 126.337908 1.6734 \nL 129.168342 2.217 \nL 131.998777 1.8999 \nL 134.829212 1.56015 \nL 137.659647 1.5375 \nL 140.490082 1.56015 \nL 143.320516 1.56015 \nL 146.150951 1.46955 \nL 148.981386 1.5375 \nL 151.811821 1.2204 \nL 154.642255 1.4922 \nL 157.47269 1.4016 \nL 160.303125 1.69605 \nL 163.13356 1.2657 \nL 165.963995 1.28835 \nL 168.794429 1.6734 \nL 171.624864 1.6734 \nL 174.455299 1.6281 \nL 177.285734 2.28495 \nL 180.116168 1.4016 \nL 182.946603 1.2204 \nL 185.777038 1.4016 \nL 188.607473 1.65075 \nL 191.437908 1.5828 \nL 194.268342 1.764 \nL 197.098777 1.74135 \nL 199.929212 1.56015 \nL 202.759647 1.4922 \nL 205.590082 1.92255 \nL 208.420516 1.51485 \nL 211.250951 1.69605 \nL 214.081386 1.5375 \nL 216.911821 1.33365 \nL 219.742255 1.5375 \nL 222.57269 1.24305 \nL 225.403125 2.05845 \n\" style=\"fill:none;stroke:#008000;stroke-dasharray:9.6,2.4,1.5,2.4;stroke-dashoffset:0;stroke-width:1.5;\"/>\n   </g>\n   <g id=\"patch_3\">\n    <path d=\"M 30.103125 143.1 \nL 30.103125 7.2 \n\" style=\"fill:none;stroke:#000000;stroke-linecap:square;stroke-linejoin:miter;stroke-width:0.8;\"/>\n   </g>\n   <g id=\"patch_4\">\n    <path d=\"M 225.403125 143.1 \nL 225.403125 7.2 \n\" style=\"fill:none;stroke:#000000;stroke-linecap:square;stroke-linejoin:miter;stroke-width:0.8;\"/>\n   </g>\n   <g id=\"patch_5\">\n    <path d=\"M 30.103125 143.1 \nL 225.403125 143.1 \n\" style=\"fill:none;stroke:#000000;stroke-linecap:square;stroke-linejoin:miter;stroke-width:0.8;\"/>\n   </g>\n   <g id=\"patch_6\">\n    <path d=\"M 30.103125 7.2 \nL 225.403125 7.2 \n\" style=\"fill:none;stroke:#000000;stroke-linecap:square;stroke-linejoin:miter;stroke-width:0.8;\"/>\n   </g>\n   <g id=\"legend_1\">\n    <g id=\"patch_7\">\n     <path d=\"M 140.634375 59.234375 \nL 218.403125 59.234375 \nQ 220.403125 59.234375 220.403125 57.234375 \nL 220.403125 14.2 \nQ 220.403125 12.2 218.403125 12.2 \nL 140.634375 12.2 \nQ 138.634375 12.2 138.634375 14.2 \nL 138.634375 57.234375 \nQ 138.634375 59.234375 140.634375 59.234375 \nz\n\" style=\"fill:#ffffff;opacity:0.8;stroke:#cccccc;stroke-linejoin:miter;\"/>\n    </g>\n    <g id=\"line2d_16\">\n     <path d=\"M 142.634375 20.298438 \nL 162.634375 20.298438 \n\" style=\"fill:none;stroke:#1f77b4;stroke-linecap:square;stroke-width:1.5;\"/>\n    </g>\n    <g id=\"line2d_17\"/>\n    <g id=\"text_8\">\n     <!-- train loss -->\n     <defs>\n      <path d=\"M 18.3125 70.21875 \nL 18.3125 54.6875 \nL 36.8125 54.6875 \nL 36.8125 47.703125 \nL 18.3125 47.703125 \nL 18.3125 18.015625 \nQ 18.3125 11.328125 20.140625 9.421875 \nQ 21.96875 7.515625 27.59375 7.515625 \nL 36.8125 7.515625 \nL 36.8125 0 \nL 27.59375 0 \nQ 17.1875 0 13.234375 3.875 \nQ 9.28125 7.765625 9.28125 18.015625 \nL 9.28125 47.703125 \nL 2.6875 47.703125 \nL 2.6875 54.6875 \nL 9.28125 54.6875 \nL 9.28125 70.21875 \nz\n\" id=\"DejaVuSans-116\"/>\n      <path d=\"M 41.109375 46.296875 \nQ 39.59375 47.171875 37.8125 47.578125 \nQ 36.03125 48 33.890625 48 \nQ 26.265625 48 22.1875 43.046875 \nQ 18.109375 38.09375 18.109375 28.8125 \nL 18.109375 0 \nL 9.078125 0 \nL 9.078125 54.6875 \nL 18.109375 54.6875 \nL 18.109375 46.1875 \nQ 20.953125 51.171875 25.484375 53.578125 \nQ 30.03125 56 36.53125 56 \nQ 37.453125 56 38.578125 55.875 \nQ 39.703125 55.765625 41.0625 55.515625 \nz\n\" id=\"DejaVuSans-114\"/>\n      <path d=\"M 34.28125 27.484375 \nQ 23.390625 27.484375 19.1875 25 \nQ 14.984375 22.515625 14.984375 16.5 \nQ 14.984375 11.71875 18.140625 8.90625 \nQ 21.296875 6.109375 26.703125 6.109375 \nQ 34.1875 6.109375 38.703125 11.40625 \nQ 43.21875 16.703125 43.21875 25.484375 \nL 43.21875 27.484375 \nz\nM 52.203125 31.203125 \nL 52.203125 0 \nL 43.21875 0 \nL 43.21875 8.296875 \nQ 40.140625 3.328125 35.546875 0.953125 \nQ 30.953125 -1.421875 24.3125 -1.421875 \nQ 15.921875 -1.421875 10.953125 3.296875 \nQ 6 8.015625 6 15.921875 \nQ 6 25.140625 12.171875 29.828125 \nQ 18.359375 34.515625 30.609375 34.515625 \nL 43.21875 34.515625 \nL 43.21875 35.40625 \nQ 43.21875 41.609375 39.140625 45 \nQ 35.0625 48.390625 27.6875 48.390625 \nQ 23 48.390625 18.546875 47.265625 \nQ 14.109375 46.140625 10.015625 43.890625 \nL 10.015625 52.203125 \nQ 14.9375 54.109375 19.578125 55.046875 \nQ 24.21875 56 28.609375 56 \nQ 40.484375 56 46.34375 49.84375 \nQ 52.203125 43.703125 52.203125 31.203125 \nz\n\" id=\"DejaVuSans-97\"/>\n      <path d=\"M 9.421875 54.6875 \nL 18.40625 54.6875 \nL 18.40625 0 \nL 9.421875 0 \nz\nM 9.421875 75.984375 \nL 18.40625 75.984375 \nL 18.40625 64.59375 \nL 9.421875 64.59375 \nz\n\" id=\"DejaVuSans-105\"/>\n      <path d=\"M 54.890625 33.015625 \nL 54.890625 0 \nL 45.90625 0 \nL 45.90625 32.71875 \nQ 45.90625 40.484375 42.875 44.328125 \nQ 39.84375 48.1875 33.796875 48.1875 \nQ 26.515625 48.1875 22.3125 43.546875 \nQ 18.109375 38.921875 18.109375 30.90625 \nL 18.109375 0 \nL 9.078125 0 \nL 9.078125 54.6875 \nL 18.109375 54.6875 \nL 18.109375 46.1875 \nQ 21.34375 51.125 25.703125 53.5625 \nQ 30.078125 56 35.796875 56 \nQ 45.21875 56 50.046875 50.171875 \nQ 54.890625 44.34375 54.890625 33.015625 \nz\n\" id=\"DejaVuSans-110\"/>\n      <path id=\"DejaVuSans-32\"/>\n      <path d=\"M 9.421875 75.984375 \nL 18.40625 75.984375 \nL 18.40625 0 \nL 9.421875 0 \nz\n\" id=\"DejaVuSans-108\"/>\n      <path d=\"M 44.28125 53.078125 \nL 44.28125 44.578125 \nQ 40.484375 46.53125 36.375 47.5 \nQ 32.28125 48.484375 27.875 48.484375 \nQ 21.1875 48.484375 17.84375 46.4375 \nQ 14.5 44.390625 14.5 40.28125 \nQ 14.5 37.15625 16.890625 35.375 \nQ 19.28125 33.59375 26.515625 31.984375 \nL 29.59375 31.296875 \nQ 39.15625 29.25 43.1875 25.515625 \nQ 47.21875 21.78125 47.21875 15.09375 \nQ 47.21875 7.46875 41.1875 3.015625 \nQ 35.15625 -1.421875 24.609375 -1.421875 \nQ 20.21875 -1.421875 15.453125 -0.5625 \nQ 10.6875 0.296875 5.421875 2 \nL 5.421875 11.28125 \nQ 10.40625 8.6875 15.234375 7.390625 \nQ 20.0625 6.109375 24.8125 6.109375 \nQ 31.15625 6.109375 34.5625 8.28125 \nQ 37.984375 10.453125 37.984375 14.40625 \nQ 37.984375 18.0625 35.515625 20.015625 \nQ 33.0625 21.96875 24.703125 23.78125 \nL 21.578125 24.515625 \nQ 13.234375 26.265625 9.515625 29.90625 \nQ 5.8125 33.546875 5.8125 39.890625 \nQ 5.8125 47.609375 11.28125 51.796875 \nQ 16.75 56 26.8125 56 \nQ 31.78125 56 36.171875 55.265625 \nQ 40.578125 54.546875 44.28125 53.078125 \nz\n\" id=\"DejaVuSans-115\"/>\n     </defs>\n     <g transform=\"translate(170.634375 23.798438)scale(0.1 -0.1)\">\n      <use xlink:href=\"#DejaVuSans-116\"/>\n      <use x=\"39.208984\" xlink:href=\"#DejaVuSans-114\"/>\n      <use x=\"80.322266\" xlink:href=\"#DejaVuSans-97\"/>\n      <use x=\"141.601562\" xlink:href=\"#DejaVuSans-105\"/>\n      <use x=\"169.384766\" xlink:href=\"#DejaVuSans-110\"/>\n      <use x=\"232.763672\" xlink:href=\"#DejaVuSans-32\"/>\n      <use x=\"264.550781\" xlink:href=\"#DejaVuSans-108\"/>\n      <use x=\"292.333984\" xlink:href=\"#DejaVuSans-111\"/>\n      <use x=\"353.515625\" xlink:href=\"#DejaVuSans-115\"/>\n      <use x=\"405.615234\" xlink:href=\"#DejaVuSans-115\"/>\n     </g>\n    </g>\n    <g id=\"line2d_18\">\n     <path d=\"M 142.634375 34.976562 \nL 162.634375 34.976562 \n\" style=\"fill:none;stroke:#bf00bf;stroke-dasharray:5.55,2.4;stroke-dashoffset:0;stroke-width:1.5;\"/>\n    </g>\n    <g id=\"line2d_19\"/>\n    <g id=\"text_9\">\n     <!-- train acc -->\n     <g transform=\"translate(170.634375 38.476562)scale(0.1 -0.1)\">\n      <use xlink:href=\"#DejaVuSans-116\"/>\n      <use x=\"39.208984\" xlink:href=\"#DejaVuSans-114\"/>\n      <use x=\"80.322266\" xlink:href=\"#DejaVuSans-97\"/>\n      <use x=\"141.601562\" xlink:href=\"#DejaVuSans-105\"/>\n      <use x=\"169.384766\" xlink:href=\"#DejaVuSans-110\"/>\n      <use x=\"232.763672\" xlink:href=\"#DejaVuSans-32\"/>\n      <use x=\"264.550781\" xlink:href=\"#DejaVuSans-97\"/>\n      <use x=\"325.830078\" xlink:href=\"#DejaVuSans-99\"/>\n      <use x=\"380.810547\" xlink:href=\"#DejaVuSans-99\"/>\n     </g>\n    </g>\n    <g id=\"line2d_20\">\n     <path d=\"M 142.634375 49.654688 \nL 162.634375 49.654688 \n\" style=\"fill:none;stroke:#008000;stroke-dasharray:9.6,2.4,1.5,2.4;stroke-dashoffset:0;stroke-width:1.5;\"/>\n    </g>\n    <g id=\"line2d_21\"/>\n    <g id=\"text_10\">\n     <!-- test acc -->\n     <g transform=\"translate(170.634375 53.154688)scale(0.1 -0.1)\">\n      <use xlink:href=\"#DejaVuSans-116\"/>\n      <use x=\"39.208984\" xlink:href=\"#DejaVuSans-101\"/>\n      <use x=\"100.732422\" xlink:href=\"#DejaVuSans-115\"/>\n      <use x=\"152.832031\" xlink:href=\"#DejaVuSans-116\"/>\n      <use x=\"192.041016\" xlink:href=\"#DejaVuSans-32\"/>\n      <use x=\"223.828125\" xlink:href=\"#DejaVuSans-97\"/>\n      <use x=\"285.107422\" xlink:href=\"#DejaVuSans-99\"/>\n      <use x=\"340.087891\" xlink:href=\"#DejaVuSans-99\"/>\n     </g>\n    </g>\n   </g>\n  </g>\n </g>\n <defs>\n  <clipPath id=\"pac7b89df33\">\n   <rect height=\"135.9\" width=\"195.3\" x=\"30.103125\" y=\"7.2\"/>\n  </clipPath>\n </defs>\n</svg>\n"
          },
          "metadata": {
            "needs_background": "light"
          }
        }
      ]
    },
    {
      "cell_type": "markdown",
      "metadata": {
        "id": "Bpj2abpWbTA0"
      },
      "source": [
        "**2. Train Results**"
      ]
    },
    {
      "cell_type": "code",
      "metadata": {
        "colab": {
          "base_uri": "https://localhost:8080/"
        },
        "id": "nxD1UdBXbVKb",
        "outputId": "69b569d4-ad7a-4b49-a219-578783c919ba"
      },
      "source": [
        "# Test Accuracy\n",
        "for x,y in test_iter:\n",
        "  pred = net(x)\n",
        "  test_pred = torch.argmax(pred, dim=1)\n",
        "  break\n",
        "\n",
        "result = (y == test_pred)\n",
        "accuracy = result.sum()/len(result)\n",
        "print('>> Test Accuracy : ',accuracy.item()*100,'%')\n",
        "\n",
        "# Train Accuracy\n",
        "for x,y in train_iter:\n",
        "  pred = net(x)\n",
        "  train_pred = torch.argmax(pred, dim=1)\n",
        "  break\n",
        "\n",
        "result = (y == train_pred)\n",
        "accuracy = result.sum()/len(result)\n",
        "print('>> Train Accuracy : ',accuracy.item()*100,'%')"
      ],
      "execution_count": null,
      "outputs": [
        {
          "output_type": "stream",
          "name": "stdout",
          "text": [
            ">> Test Accuracy :  96.09375 %\n",
            ">> Train Accuracy :  95.3125 %\n"
          ]
        }
      ]
    },
    {
      "cell_type": "markdown",
      "metadata": {
        "id": "L9iWyKtDPSTH"
      },
      "source": [
        "> ### **5. Make your own image (28x28) mimicking an MNIST data (they are handwritten digits), give it to the network trained, and insist that your network is good.**"
      ]
    },
    {
      "cell_type": "code",
      "metadata": {
        "id": "gFA0vK7-PbMd",
        "colab": {
          "base_uri": "https://localhost:8080/",
          "height": 77
        },
        "outputId": "9586992e-8972-48d9-c7a2-db289dcfa5fd"
      },
      "source": [
        "# Load my handwritting data\n",
        "my_nums = []\n",
        "my_labs = [0,1,2,3,4,5,6,7,8,9]\n",
        "imgs = []\n",
        "for i in range(10):\n",
        "  img = cv2.imread('{num}.jpg'.format(num=i),cv2.IMREAD_GRAYSCALE)\n",
        "  img = cv2.resize(img, (28,28))\n",
        "  imgs.append(img)\n",
        "  img = np.reshape(img,(1,28,28))\n",
        "  my_nums.append(img)\n",
        "  \n",
        "my_nums = np.array(my_nums)\n",
        "my_nums = torch.Tensor(my_nums)\n",
        "my_labs = np.array(my_labs)\n",
        "my_labs = torch.Tensor(my_labs)\n",
        "\n",
        "# Plot my data images\n",
        "fig = plt.figure()\n",
        "rows,cols = 1,10\n",
        "for i in range(10):\n",
        "  ax1 = fig.add_subplot(rows, cols, i+1)\n",
        "  ax1.imshow(imgs[i], cmap='gray')\n",
        "  ax1.axis(\"off\")\n",
        "plt.show()"
      ],
      "execution_count": null,
      "outputs": [
        {
          "output_type": "display_data",
          "data": {
            "text/plain": [
              "<Figure size 432x288 with 10 Axes>"
            ],
            "image/svg+xml": "<?xml version=\"1.0\" encoding=\"utf-8\" standalone=\"no\"?>\n<!DOCTYPE svg PUBLIC \"-//W3C//DTD SVG 1.1//EN\"\n  \"http://www.w3.org/Graphics/SVG/1.1/DTD/svg11.dtd\">\n<!-- Created with matplotlib (https://matplotlib.org/) -->\n<svg height=\"42.772881pt\" version=\"1.1\" viewBox=\"0 0 349.2 42.772881\" width=\"349.2pt\" xmlns=\"http://www.w3.org/2000/svg\" xmlns:xlink=\"http://www.w3.org/1999/xlink\">\n <defs>\n  <style type=\"text/css\">\n*{stroke-linecap:butt;stroke-linejoin:round;}\n  </style>\n </defs>\n <g id=\"figure_1\">\n  <g id=\"patch_1\">\n   <path d=\"M 0 42.772881 \nL 349.2 42.772881 \nL 349.2 0 \nL 0 0 \nz\n\" style=\"fill:none;\"/>\n  </g>\n  <g id=\"axes_1\">\n   <g clip-path=\"url(#p7f1385744a)\">\n    <image height=\"29\" id=\"image8c7eda7a4d\" transform=\"scale(1 -1)translate(0 -29)\" width=\"29\" x=\"7.2\" xlink:href=\"data:image/png;base64,\niVBORw0KGgoAAAANSUhEUgAAAB0AAAAdCAYAAABWk2cPAAAABHNCSVQICAgIfAhkiAAAAfRJREFUSInt1s/LKVEYB/DnDBvbdxYmxVIWFopssLTzDyj/wtgoKStNSkKYsGbBH2EjKztTyhaJpvwaJnZ87+LmXdyuX++r6d56v/Xsns7nnHrO6TAiAhkczmjwB/330FKpRKqqUr1eJ6fT+WUYj4rjODSbTcxmM+i6DgA4Ho9YLpfI5XJgjD1c44+631Cr1aAoyieWTqfhcrmQSqUwnU6x2+1Qq9Xw8fHxPnQwGOByuSAej8Pr9YLneRAReJ6H2+1GNpuFpmmQZfk9aKFQwHa7hSiKN09is9kgSRLW6zXK5fL3UUVRcD6fEQwG7y4SjUYBAL1e7yn07vRaLBbiuMcDrqoqKYrysO+at9zT0WhEnU6HGGNkNpuNQdfrNY3HY7Lb7RSLxYxBrxEEgSKRiLEoET01A29FV6sVdbtdY1CHw0GhUIgmkwk1Go3vof1+nw6HA/l8PuJ5/mZfIBCgZDL50kZvXmLGGIbDIU6nE8Lh8F97BEFAJpPBZrNBtVp9z9vb6XSg6zpEUYTVaoXJZPrEPB4PJEnCdrtFpVJ534NPRGi32zgej8jn8/D7/XA6nZBlGQCgaRqKxeIr4HMoYwytVguLxQK6ruNyuWC/32M+nyOXy70KPodei+d5lEolTCYTJBKJr2C/D3GVjcz/8TH7QV/JLzg63IxrC5YeAAAAAElFTkSuQmCC\" y=\"-6.572881\"/>\n   </g>\n  </g>\n  <g id=\"axes_2\">\n   <g clip-path=\"url(#pf92f9405f0)\">\n    <image height=\"29\" id=\"image8d3fbba1a4\" transform=\"scale(1 -1)translate(0 -29)\" width=\"29\" x=\"41.247458\" xlink:href=\"data:image/png;base64,\niVBORw0KGgoAAAANSUhEUgAAAB0AAAAdCAYAAABWk2cPAAAABHNCSVQICAgIfAhkiAAAARVJREFUSIntlbGKg0AURY/rFtYK2qW2EFKm8xss0lspDOQr0motJH2afEDq+AU2VsHOxkIbST/plrAQeMRsYIkXXjUz78yFN3cMQPNmfb0bOENn6Mv0Ld242+0Iw/Dh+vl8Rin1WuhiscD3/YfrTdNIW2EgDIcgCHAcB4DNZsN6veZ4PFIUBQDDMFDXtQgqdnrfMIoiANq2pSxLaYsf/b/p1fq52J4ENQzj/dBnNUP/VKJ3ulqtsG2bqqroum4yVOQ0yzJOpxNJkuB53mSoyOnlcmG5XLLdbjFNE9d1J4O1pPb7vR7HUd8rz3PR2d8lHqQ0TTkcDlyv18kuxYEPoJSi73viOMayrKcvIP7aXqnPCYfPgd4AR/tuT6u8HSMAAAAASUVORK5CYII=\" y=\"-6.572881\"/>\n   </g>\n  </g>\n  <g id=\"axes_3\">\n   <g clip-path=\"url(#pad11f28575)\">\n    <image height=\"29\" id=\"imageb6c5369e91\" transform=\"scale(1 -1)translate(0 -29)\" width=\"29\" x=\"75.294915\" xlink:href=\"data:image/png;base64,\niVBORw0KGgoAAAANSUhEUgAAAB0AAAAdCAYAAABWk2cPAAAABHNCSVQICAgIfAhkiAAAAdxJREFUSIntlrGr4kAQxj/NFQmInVrYGMTCwlILGxFsgpaprcTOytbiqf+DoBjL1FYiWElAtBGroClUQhCLRFELqzDX3BV3PN5tvPfkDvxgmmVnfjuzu7PrA0B4svzPBr6gL+hzoYIgoN/vQ9d1VCoVBAKBv4L6wHBPFUWBLMsIBoOwLAu2bcN13Xfn6rqOcrn8YbxvLCvrdDpIpVJIp9NQVRWj0QgAwPM8JElCtVqFIAi43+/Y7/d/jMcEXS6XcBwHAGAYBqbTKQDA7/djvV5jPB6D4zi4rovj8cgSEsRiuVyO5vM5LRYLkiSJyecDY59cKBRI0zSazWZULBafAwVAiqIQEZGmaVQqlR6CcgDemDbhh3w+H0RRRDabxeFwwGQy8eIOAPAM3Ww2sG0boigiHA7DsizsdjvP4IdK1Gw2iYio1+t9TXnz+TwymQwulwuu1ysAIBQKIZFIgOd5GIYBy7I+N1NN04iISJblX8br9ToREamq6ilTpt67Wq1wPp+RTCYRiUQ8ZfSemDpSrVZDPB5Hq9UCx3EYDocAgGg0CsdxmFrf72IqSbfbpe12S7fbjX7qdDpRu93+2uYQi8VoMBiQaZpkmiY1Go2HTj7T0/bZ+nd/Di/ofwX9DvDveB1ndOTiAAAAAElFTkSuQmCC\" y=\"-6.572881\"/>\n   </g>\n  </g>\n  <g id=\"axes_4\">\n   <g clip-path=\"url(#pb855c193d6)\">\n    <image height=\"29\" id=\"image690e84cf7c\" transform=\"scale(1 -1)translate(0 -29)\" width=\"29\" x=\"109.342373\" xlink:href=\"data:image/png;base64,\niVBORw0KGgoAAAANSUhEUgAAAB0AAAAdCAYAAABWk2cPAAAABHNCSVQICAgIfAhkiAAAAghJREFUSIntlr2L4lAUxe9zt7ES/MBSYZqgVlZ2omArsbexESvRQi1strTzLwgIQRAsBQUFG0EUrGzEImKMAa0l4heerUZmddbEdXbYhTlwmnDf/XHPuw/CiAj0yTJ9NvAL+u9By+UyrVarG4ui+FAfGHGlUoEsy9hsNnjVYrHAdDoFAGy3W8znczQaDSP99IGiKF5gxWIRHMeB4zi8vLzA7XaD4zikUikAwGg0AmPsOWgmk4GiKACAQqEAm832bp3FYkEymYSmaajX689Bu90ujscj8vk87Hb73dpgMAgAmEwmz0Gj0Sh4nofD4dC9BqPQ7/c2jIio3W7T4XCg8/msV2pYutDdbvdhsLcy9GT0zHEcarUaFEVBIpF4/sno2efzQRTFy5PRq9eN91qRSIS8Xu8v3/x+P8XjcVoul1StVg31MTxRKBRCr9fDtSRJgiAIyOVyRnsZh2azWcxmsxtgOp1+6Dq+EdEPo9EOBgNijBEAYoyR1Wql4XBIgiDQer022uaxeN86kUhcpu50OvB4PI+c//OtjcfjkGUZANBsNmE2mz8mXpfLRU6nk2w2241VVaX9fk/hcJg0TSNJkkhVVTqdTs/F22q1sNlscD6fb7b2WuPxGIFAQHdS9prx72QymahUKhHP82SxWIiIiDH2bm2/36dYLEbA3ZakC/0b+j9+zL6gj+gnpKtnocFHiPwAAAAASUVORK5CYII=\" y=\"-6.572881\"/>\n   </g>\n  </g>\n  <g id=\"axes_5\">\n   <g clip-path=\"url(#pd7e2969581)\">\n    <image height=\"29\" id=\"imageaa77098802\" transform=\"scale(1 -1)translate(0 -29)\" width=\"29\" x=\"143.389831\" xlink:href=\"data:image/png;base64,\niVBORw0KGgoAAAANSUhEUgAAAB0AAAAdCAYAAABWk2cPAAAABHNCSVQICAgIfAhkiAAAAXdJREFUSIntla+LAkEUxz97HLKK1SyyTRSLcbHZxCCI/4gGo91gsRjssm2L/4AIinVh8EcwOGDQ4IL1XTguyN2up94t3I8vvDLDdz4zb968MQAhYj1FDfyHfkrtdhvHcSgWizd7n++FmqZJtVpFa81isbjJ+1B6Y7EY8Xj8Zt/PutMfB71aSL1eD8uyEBHG4zGu67Lb7R6CGoS0wVKpxHA4xLIsANbrNUopfN8nn8+Ty+XYbDbM5/MLn9aaVquFyMdLh0JHoxGVSoV+v89qtQIgmUxSq9WwbTvwJEopstlsIDQ0vYVCgUQigeu6TCYT4PV9ep5Hs9mkXC4zm81wHOfCdzweA4FvkqBQSomIiG3b7+Y6nY6IiAwGg0B/UIRWr2EYobu9V6HQ6XSK7/vRQrvdLlrraKGe53E+n0mlUpimGQ30TfV6nXQ6HS200WiQyWS+DHq1DW63WwzD4HQ6XYwfDgeWyyX7/f5maGhH+i79na/tH/r7oC9Du55uDvckFAAAAABJRU5ErkJggg==\" y=\"-6.572881\"/>\n   </g>\n  </g>\n  <g id=\"axes_6\">\n   <g clip-path=\"url(#p66b46eacb5)\">\n    <image height=\"29\" id=\"image6cd770771d\" transform=\"scale(1 -1)translate(0 -29)\" width=\"29\" x=\"177.437288\" xlink:href=\"data:image/png;base64,\niVBORw0KGgoAAAANSUhEUgAAAB0AAAAdCAYAAABWk2cPAAAABHNCSVQICAgIfAhkiAAAAcdJREFUSIntlbuKwkAUhs+sWwVbCVp4qQQri7yAhUh6sbGwsvMBbNUqIAgKCqay0NeIl0bwBQIWxsZCNPECFor5t1n3gus67gZxYX84Rfhn5ps/54QwIgLdWU/3Bv5DHxMaj8epXC5TKpX6MRi8Va/XYRgG5vM5ttstFosFDMNAtVrlPuO1ri9ijKHZbGKz2QAAFEVBJBKBoigAgNVqhVqt5ixUVVWs12vk83lIkgRRFEFEEEURpVIJAGBZFhqNhnNQWZYhyzI8Hs+Z5/V6USwWAQCapjkHFQQBLpfrou/z+VAoFNDr9b5ddyqu6d3tdnQ8Hi/6s9mMRqMRud1uCofDV89z5DuVJIlyuRwdDgcyTZNrz63j/qmCwSAqlQoAoNvtcu155rlVJpOhQCDwfkuAiIgYY+T3+ykWi9F4PKZWq8WVkitpv9/HR9m2Ddu23551XUc2m+V+O1xJGWNERKRpGk0mkzN/OBySqqrcKbmSDgYDAEAymfxV/0/1uH+Z0+A4Ja6emqZJ+/2eQqEQRaPRM9+yLJpOpzeBr/YgnU5D13VcUqfTuamnXEnb7TYlEgkSBOFLf7lc3pSSvdLvqsed3n/on4K+AGm0xgTizhjpAAAAAElFTkSuQmCC\" y=\"-6.572881\"/>\n   </g>\n  </g>\n  <g id=\"axes_7\">\n   <g clip-path=\"url(#p1e139b9f05)\">\n    <image height=\"29\" id=\"imaged5acfa9a50\" transform=\"scale(1 -1)translate(0 -29)\" width=\"29\" x=\"211.484746\" xlink:href=\"data:image/png;base64,\niVBORw0KGgoAAAANSUhEUgAAAB0AAAAdCAYAAABWk2cPAAAABHNCSVQICAgIfAhkiAAAAkFJREFUSIntljFoIlEQhv+33pax2AiJaSQWYYutTJEtg53YaCUWIShpAmG7dCnOIoVgYWyUSCQYxF6wshHEKqBWokWKRbCITXRDSv8r7hJSXNxNNOEOMjDNzjDfzL6ZN08AIL5YpK8GfkP/TajL5YIsy5Ckj+X8w6nj9fU19vf3AQBCiJfvJFGr1WAYxrvAtNObmxtalkWSPDs7o6qqVFWV6XSa8/mc0+mU+XzeNs4rXexQqVRoWRYNw+Du7i49Hs+LbWNjgwcHB2w2m3x4eGChUFgeWi6XaVkWe70e9/b2/uqztrZGwzBIks1mc3nocDgkSR4dHdHtdr/pt7W1xVQqRdM0eXx8bAt11H6DwQCz2exN+3g8xu3tLbxeL6LRqG28lc6pLMtQFGU10JOTE6iq6ghM2u8PR9BYLIbt7e037ZqmIR6PwzRNFItF23iOL4dIJIKdnR00Gg30+33oug5d1wEAgUAAoVAI1WoVl5eXjuLZdm+9XudoNCJJlkolJhIJ1mo1Psvd3R3Pz8+p67qjkRFYsMSz2SwODw9xcXEBRVGwubn5O8s/5yaEAEm0223kcjmnP21xpUIIdrtdkmQoFKIkSRRCvOe6e/+ckkSn08FsNoOmaVAUxVF3LlXps7ZaLZLk6ekpFUVZulIXgJ92WQWDQfj9foTDYUynU9zf32N9fR2SJOHp6elzKgXAUqlE0zRfVhxJZjKZ1Z/pa0kmk/D5fLi6usJkMsFkMsHj4+OHqlw4Mp8l/8/D7BvqVH4BErPAzb8ynloAAAAASUVORK5CYII=\" y=\"-6.572881\"/>\n   </g>\n  </g>\n  <g id=\"axes_8\">\n   <g clip-path=\"url(#pbd386b5f45)\">\n    <image height=\"29\" id=\"image0737943c30\" transform=\"scale(1 -1)translate(0 -29)\" width=\"29\" x=\"245.532203\" xlink:href=\"data:image/png;base64,\niVBORw0KGgoAAAANSUhEUgAAAB0AAAAdCAYAAABWk2cPAAAABHNCSVQICAgIfAhkiAAAARpJREFUSIntljuKg2AUhT9HxULEwiqkCASLgIWCFm7CDaTJVgYrF+QmfJBOIWmtbEQbW2cF4otxRsjpz/m49/735wrAwM762hv4gf5PaBiGZFnG4/HYD6ppGo7jcLvd9oMCSJKELMv7QrdoFXQYBoZh/Z8iAt9LTVVVYRgGnufRdR1FUSzyr6q0LEve7zeWZeH7/mL/ppkqioKqqvtC1+oDndTz+SRNUwzD4HK5LPKuWhmA1+uFrusEQUDbtiRJMtu7ub3X63Xx2hxrpn8GbZqGuq7RNI3z+TzbJzByDZ5OJyRJmgy43+9EUUQcxwRBMAs6mhrHMbZtI4rirKAlGoW6rkue55imiSAIk0F938+Gjrb3N3W813so6A/dBUP1N2Xx1gAAAABJRU5ErkJggg==\" y=\"-6.572881\"/>\n   </g>\n  </g>\n  <g id=\"axes_9\">\n   <g clip-path=\"url(#p7863721ee3)\">\n    <image height=\"29\" id=\"image9fb70ed2f4\" transform=\"scale(1 -1)translate(0 -29)\" width=\"29\" x=\"279.579661\" xlink:href=\"data:image/png;base64,\niVBORw0KGgoAAAANSUhEUgAAAB0AAAAdCAYAAABWk2cPAAAABHNCSVQICAgIfAhkiAAAAmBJREFUSIntlT9IcmEUxp9XhKSGTKIxSUMcdBFbGxqCILlLTU6Cl2hxc3AIubgETeHm0KiD/RtsER2aWqKgRVCIumNEF8V/JNznG0LJvr7b9csi+L4HzvKec9/f+77nnHsEAOKbZflu4L8Ftf7NRxMTExBC4Pn5Gbqufx00m81iZWUFACCEAACQLzV4cnKC7e3tkcA0MiEE8/k8O50OSTIej9PpdNLpdDKVSpEkW60WDw4ODPd5Y8YBx8fHbLfb3Nraotfr5fT09MDncDi4s7NDXdepqirj8fjnoYeHh2y1WpRleQj22mZnZ5lIJNjr9Xh2dmYKali9fr8fk5OTqFQqqNfr78Y8Pj7i7u4OVqsVU1NTRtsN9PP6tF+d0WgUi4uLYwX/8e03Nzepqio1TePp6SkDgcCQf3V1lZlMhuVymTc3N1xfXzeVU8M+zefzsNlsUBQFkiTBYrGgWq0CeOnVYDCI5eVlXF9fI5lMolAofP6mfYtEIqzVanyri4sLKorCjY2NUXrUuHr7ajab6PV6v613u11omoZms2n6hgAg8ME8lSQJe3t7WFhYwPn5Oe7v7wc+v9+PpaUlZLNZhMPhkcCGT3F1dUWSLBaLDAaDQ75QKMTLy0uWSiX6fL7x/Qb70LW1tXf9sizz6emJ+/v7483pR5qZmYHL5TIdbxrqdrtht9uH1ubm5jA/Pw9N03B7e2v+lDA5ZXRdZywWo8fjGdju7i5JMpfLUQgxvpwC4NHR0WCevlaj0aCqqkyn0yP1qSkoAOZyOT48PAyZoiijwgiAH/bpV+jnjbb/0M/qF3ZIGnqiuBVWAAAAAElFTkSuQmCC\" y=\"-6.572881\"/>\n   </g>\n  </g>\n  <g id=\"axes_10\">\n   <g clip-path=\"url(#p65afe3e46f)\">\n    <image height=\"29\" id=\"image1974e2b1f1\" transform=\"scale(1 -1)translate(0 -29)\" width=\"29\" x=\"313.627119\" xlink:href=\"data:image/png;base64,\niVBORw0KGgoAAAANSUhEUgAAAB0AAAAdCAYAAABWk2cPAAAABHNCSVQICAgIfAhkiAAAAYBJREFUSIntlSurAlEUhdfcuUVRwUmmYWTAY5g/IJg0GA2C3SL+jFuMUwWT0SQGmWwzGE1aFKf5iD5AwWW6QXzNGUXuRRfsdGbxsfY+e44CgHixvl4N/EA/0IuyLAu5XE7aR79VKpU4mUxYr9elfA8l1TQNhmEgHA5L+f7nTP3o+xGz4zhIJpMIhUJSPhXAj1/ocrlELBZDsVjE4XBAv9/35HtKe03TlFqbvznTfD4PXdehqurZGUmkUilf4KtLXCgUOBgMuN/veU+dTsfzz+Fm0mq1CiEEut0uFovFSUJFURCJRCCEQDwef17S0WhEkkyn0xfPdV2nbdvSST1dpEAgcHGmruui1+vBdV1omgbLsjylvLmnmUwGhmFgOp1iOBxitVqdfbPb7RCNRpHNZhEMBuE4jifwzVa0221uNhuWy2UKIZhIJE6qUqlwPB5LtfcuFABbrRa32+3Vm7ter9loNJ4LBcBms8n5fH5Ws9mMtVpN6j1Vfsmv1Pu8p+8DPQL8TFkbigpu5AAAAABJRU5ErkJggg==\" y=\"-6.572881\"/>\n   </g>\n  </g>\n </g>\n <defs>\n  <clipPath id=\"p7f1385744a\">\n   <rect height=\"28.372881\" width=\"28.372881\" x=\"7.2\" y=\"7.2\"/>\n  </clipPath>\n  <clipPath id=\"pf92f9405f0\">\n   <rect height=\"28.372881\" width=\"28.372881\" x=\"41.247458\" y=\"7.2\"/>\n  </clipPath>\n  <clipPath id=\"pad11f28575\">\n   <rect height=\"28.372881\" width=\"28.372881\" x=\"75.294915\" y=\"7.2\"/>\n  </clipPath>\n  <clipPath id=\"pb855c193d6\">\n   <rect height=\"28.372881\" width=\"28.372881\" x=\"109.342373\" y=\"7.2\"/>\n  </clipPath>\n  <clipPath id=\"pd7e2969581\">\n   <rect height=\"28.372881\" width=\"28.372881\" x=\"143.389831\" y=\"7.2\"/>\n  </clipPath>\n  <clipPath id=\"p66b46eacb5\">\n   <rect height=\"28.372881\" width=\"28.372881\" x=\"177.437288\" y=\"7.2\"/>\n  </clipPath>\n  <clipPath id=\"p1e139b9f05\">\n   <rect height=\"28.372881\" width=\"28.372881\" x=\"211.484746\" y=\"7.2\"/>\n  </clipPath>\n  <clipPath id=\"pbd386b5f45\">\n   <rect height=\"28.372881\" width=\"28.372881\" x=\"245.532203\" y=\"7.2\"/>\n  </clipPath>\n  <clipPath id=\"p7863721ee3\">\n   <rect height=\"28.372881\" width=\"28.372881\" x=\"279.579661\" y=\"7.2\"/>\n  </clipPath>\n  <clipPath id=\"p65afe3e46f\">\n   <rect height=\"28.372881\" width=\"28.372881\" x=\"313.627119\" y=\"7.2\"/>\n  </clipPath>\n </defs>\n</svg>\n"
          },
          "metadata": {
            "needs_background": "light"
          }
        }
      ]
    },
    {
      "cell_type": "code",
      "metadata": {
        "id": "aUdD7xLzFlYW",
        "colab": {
          "base_uri": "https://localhost:8080/"
        },
        "outputId": "39c30fce-0e1b-4419-b524-f58ff553ea58"
      },
      "source": [
        "# My Data Accuracy\n",
        "pred = net(my_nums)\n",
        "my_pred = torch.argmax(pred, dim=1)\n",
        "\n",
        "result = (my_labs == my_pred)\n",
        "accuracy = result.sum()/len(result)\n",
        "arr = my_labs.detach().numpy()\n",
        "arr = arr.astype('int32')\n",
        "\n",
        "print('< True Label >',arr)\n",
        "print('\\n< Prediction >',my_pred.detach().numpy())\n",
        "print('\\n>> My Data Accuracy : ',accuracy.item()*100,'%')"
      ],
      "execution_count": null,
      "outputs": [
        {
          "output_type": "stream",
          "name": "stdout",
          "text": [
            "< True Label > [0 1 2 3 4 5 6 7 8 9]\n",
            "\n",
            "< Prediction > [0 1 2 3 9 8 6 3 9 9]\n",
            "\n",
            ">> My Data Accuracy :  60.00000238418579 %\n"
          ]
        }
      ]
    }
  ]
}
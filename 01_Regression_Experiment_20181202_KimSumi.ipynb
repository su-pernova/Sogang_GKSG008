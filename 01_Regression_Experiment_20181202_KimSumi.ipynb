{
  "nbformat": 4,
  "nbformat_minor": 0,
  "metadata": {
    "colab": {
      "name": "Regression_Experiment_20181202_KimSumi.ipynb",
      "provenance": [],
      "collapsed_sections": []
    },
    "kernelspec": {
      "name": "python3",
      "display_name": "Python 3"
    },
    "language_info": {
      "name": "python"
    },
    "accelerator": "GPU"
  },
  "cells": [
    {
      "cell_type": "markdown",
      "metadata": {
        "id": "8CPC3-IjcokH"
      },
      "source": [
        "# **Programming for Applied Deep Learning (GKSG008-01)**\n",
        "> ### **20181202 김수미**\n",
        "> ### Linear Regression and Neural Network : Experiment Based on 10/12 Lecture"
      ]
    },
    {
      "cell_type": "markdown",
      "metadata": {
        "id": "DCmZJRNugvZJ"
      },
      "source": [
        "**1. Python Libraries**"
      ]
    },
    {
      "cell_type": "code",
      "metadata": {
        "id": "dKXvYgrzdjmm"
      },
      "source": [
        "pip install d2l"
      ],
      "execution_count": null,
      "outputs": []
    },
    {
      "cell_type": "code",
      "metadata": {
        "id": "ju7YTKWMMkdG"
      },
      "source": [
        "import numpy as np\n",
        "import torch\n",
        "import matplotlib.pyplot as plt\n",
        "from torch.utils import data\n",
        "from d2l import torch as d2l\n",
        "from torch import nn"
      ],
      "execution_count": 175,
      "outputs": []
    },
    {
      "cell_type": "markdown",
      "metadata": {
        "id": "pgfs24wFguBV"
      },
      "source": [
        "**2. Define Functions**"
      ]
    },
    {
      "cell_type": "code",
      "metadata": {
        "id": "fmdAdB-yguSd"
      },
      "source": [
        "# PyTorch data iterator(data loader)\n",
        "def load_array(data_arrays, batch_size, is_train=True):\n",
        "    dataset = data.TensorDataset(*data_arrays)\n",
        "    return data.DataLoader(dataset, batch_size, shuffle=is_train)\n",
        "\n",
        "# Generate : Y = wX + b + noise\n",
        "# Normal dist function : create random noise out of Normal(0, 0.01)\n",
        "def synthetic_data(w, b, num_examples):\n",
        "  X = torch.normal(0, 1, (num_examples, len(w)))\n",
        "  Y = torch.matmul(X,w) + b\n",
        "  Y += torch.normal(0, 1., Y.shape) \n",
        "  return X, Y.reshape((-1,1))"
      ],
      "execution_count": 176,
      "outputs": []
    },
    {
      "cell_type": "markdown",
      "metadata": {
        "id": "GDjR_GLzhC4y"
      },
      "source": [
        "**3. Set Parameters**"
      ]
    },
    {
      "cell_type": "code",
      "metadata": {
        "id": "4ojbaXxXdist"
      },
      "source": [
        "# True values(weight,bias) and dataset that our neural network will estimate\n",
        "true_w = torch.tensor([2.0])\n",
        "true_b = 4.2\n",
        "features, labels = synthetic_data(true_w, true_b, 100)\n",
        "\n",
        "# Batch size and Minibatch Set\n",
        "batch_size = 10\n",
        "data_iter = load_array((features, labels), batch_size)\n",
        "\n",
        "# Neural net, Loss function and Trainer\n",
        "# MSE Loss function : f(x) = (ypred-y)^2\n",
        "net = nn.Sequential(nn.Linear(in_features=1, out_features=1))\n",
        "loss = nn.MSELoss() \n",
        "trainer = torch.optim.SGD(net.parameters(), lr=0.03)"
      ],
      "execution_count": 177,
      "outputs": []
    },
    {
      "cell_type": "code",
      "metadata": {
        "colab": {
          "base_uri": "https://localhost:8080/",
          "height": 265
        },
        "id": "129qjXRVkbFB",
        "outputId": "4c51464a-2e1f-4df4-8405-760a11388050"
      },
      "source": [
        "# True Values : 100 data\n",
        "graph = plt.scatter(features, labels)\n",
        "plt.show(graph)"
      ],
      "execution_count": 178,
      "outputs": [
        {
          "output_type": "display_data",
          "data": {
            "image/png": "[encoded data removed]",
            "text/plain": [
              "<Figure size 432x288 with 1 Axes>"
            ]
          },
          "metadata": {
            "needs_background": "light"
          }
        }
      ]
    },
    {
      "cell_type": "code",
      "metadata": {
        "colab": {
          "base_uri": "https://localhost:8080/",
          "height": 265
        },
        "id": "qSneCOTUnDGi",
        "outputId": "31d79750-c11f-4f90-8d9b-2e158cdb3825"
      },
      "source": [
        "# One Minibatch : 10 data\n",
        "dataset = next(iter(data_iter))\n",
        "graph = plt.scatter(dataset[0], dataset[1])\n",
        "plt.show(graph)"
      ],
      "execution_count": 179,
      "outputs": [
        {
          "output_type": "display_data",
          "data": {
            "image/png": "[encoded data removed]",
            "text/plain": [
              "<Figure size 432x288 with 1 Axes>"
            ]
          },
          "metadata": {
            "needs_background": "light"
          }
        }
      ]
    },
    {
      "cell_type": "markdown",
      "metadata": {
        "id": "3KTB3tuyjj_o"
      },
      "source": [
        "**4. Training**"
      ]
    },
    {
      "cell_type": "code",
      "metadata": {
        "colab": {
          "base_uri": "https://localhost:8080/"
        },
        "id": "qu3hW7AeelaR",
        "outputId": "8d0a38cb-4b57-4f22-85dd-217764edcb1d"
      },
      "source": [
        "# Execute training : epoch = 50\n",
        "loss_results = []\n",
        "num_epochs = 50\n",
        "for epoch in range(num_epochs):\n",
        "    for X, Y in data_iter:\n",
        "        ypred = net(X)\n",
        "        mseloss = loss(ypred, Y)\n",
        "        loss_results.append(mseloss.item())\n",
        "        trainer.zero_grad()\n",
        "        mseloss.backward()\n",
        "        trainer.step()\n",
        "    l = loss(net(features), labels)\n",
        "    if epoch % 10 == 9:\n",
        "      print(f'epoch {epoch + 1}, loss {l:f}')"
      ],
      "execution_count": 180,
      "outputs": [
        {
          "output_type": "stream",
          "name": "stdout",
          "text": [
            "epoch 10, loss 0.850024\n",
            "epoch 20, loss 0.850158\n",
            "epoch 30, loss 0.850279\n",
            "epoch 40, loss 0.850125\n",
            "epoch 50, loss 0.850109\n"
          ]
        }
      ]
    },
    {
      "cell_type": "markdown",
      "metadata": {
        "id": "zG0fxH0VjqKO"
      },
      "source": [
        "**5. Training Result**"
      ]
    },
    {
      "cell_type": "code",
      "metadata": {
        "colab": {
          "base_uri": "https://localhost:8080/"
        },
        "id": "nwp6GatUeqGH",
        "outputId": "006ab2d5-8f0c-4827-8a41-05ec8a96a980"
      },
      "source": [
        "# Estimated result after training\n",
        "w = net[0].weight.data\n",
        "print('Gap between (true_w, predicted_w) :', true_w - w.reshape(true_w.shape))\n",
        "b = net[0].bias.data\n",
        "print('Gap between (true_b, predicted_b) :', true_b - b)"
      ],
      "execution_count": 181,
      "outputs": [
        {
          "output_type": "stream",
          "name": "stdout",
          "text": [
            "Gap between (true_w, predicted_w) : tensor([0.1198])\n",
            "Gap between (true_b, predicted_b) : tensor([-0.1292])\n"
          ]
        }
      ]
    },
    {
      "cell_type": "code",
      "metadata": {
        "colab": {
          "base_uri": "https://localhost:8080/",
          "height": 265
        },
        "id": "gdmieEK6fWMc",
        "outputId": "391a2b5d-c372-49e7-f266-d5576e47ff63"
      },
      "source": [
        "# Sequential graph of Loss value\n",
        "graph = plt.plot(loss_results,label='loss'), plt.plot(np.log(loss_results),label='(log)loss'), plt.legend()\n",
        "plt.show(graph)"
      ],
      "execution_count": 182,
      "outputs": [
        {
          "output_type": "display_data",
          "data": {
            "image/png": "[encoded data removed]",
            "text/plain": [
              "<Figure size 432x288 with 1 Axes>"
            ]
          },
          "metadata": {
            "needs_background": "light"
          }
        }
      ]
    },
    {
      "cell_type": "code",
      "metadata": {
        "colab": {
          "base_uri": "https://localhost:8080/",
          "height": 265
        },
        "id": "2vbw4Uz0fjHn",
        "outputId": "2237042b-8e37-4c69-c432-5658056b767f"
      },
      "source": [
        "# Comparison between Input values and Predicted values(Linear Regression)\n",
        "ypred = net(features)\n",
        "graph = plt.scatter(features.reshape(-1), labels, label='Input') \\\n",
        ",plt.scatter(features.reshape(-1), ypred.detach(), label='Predicted') \\\n",
        ",plt.legend()\n",
        "plt.show(graph)"
      ],
      "execution_count": 183,
      "outputs": [
        {
          "output_type": "display_data",
          "data": {
            "image/png": "[encoded data removed]",
            "text/plain": [
              "<Figure size 432x288 with 1 Axes>"
            ]
          },
          "metadata": {
            "needs_background": "light"
          }
        }
      ]
    },
    {
      "cell_type": "markdown",
      "metadata": {
        "id": "PnYkg4mi4vfw"
      },
      "source": [
        "**6. The Process of Training**"
      ]
    },
    {
      "cell_type": "code",
      "metadata": {
        "id": "vHHiUgsX4roi"
      },
      "source": [
        "# Initialize Parameters\n",
        "true_w = torch.tensor([2.0])\n",
        "true_b = 2\n",
        "features, labels = synthetic_data(true_w, true_b, 100)\n",
        "\n",
        "batch_size = 2\n",
        "data_iter = load_array((features, labels), batch_size)\n",
        "\n",
        "net = nn.Sequential(nn.Linear(in_features=1, out_features=1))\n",
        "loss = nn.MSELoss() \n",
        "trainer = torch.optim.SGD(net.parameters(), lr=0.002)"
      ],
      "execution_count": 184,
      "outputs": []
    },
    {
      "cell_type": "code",
      "metadata": {
        "colab": {
          "base_uri": "https://localhost:8080/"
        },
        "id": "3QcQ2mUG7aar",
        "outputId": "4f7c9c00-b62d-43c1-ab4a-730e47c6523d"
      },
      "source": [
        "# Training\n",
        "loss_results = []\n",
        "ypreds = []\n",
        "num_epochs = 20\n",
        "for epoch in range(num_epochs):\n",
        "    for X, Y in data_iter:\n",
        "        ypred = net(X)\n",
        "        mseloss = loss(ypred, Y)\n",
        "        loss_results.append(mseloss.item())\n",
        "        trainer.zero_grad()\n",
        "        mseloss.backward()\n",
        "        trainer.step()\n",
        "    ypreds.append(net(features))\n",
        "    l = loss(net(features), labels)\n",
        "    if epoch in [0,1,2,5,19]:\n",
        "      print(f'epoch {epoch + 1}, loss {l:f}')"
      ],
      "execution_count": 185,
      "outputs": [
        {
          "output_type": "stream",
          "name": "stdout",
          "text": [
            "epoch 1, loss 6.060537\n",
            "epoch 2, loss 4.258956\n",
            "epoch 3, loss 3.082320\n",
            "epoch 6, loss 1.470322\n",
            "epoch 20, loss 0.847665\n"
          ]
        }
      ]
    },
    {
      "cell_type": "code",
      "metadata": {
        "colab": {
          "base_uri": "https://localhost:8080/",
          "height": 265
        },
        "id": "HmHjb0Dx6sPq",
        "outputId": "514e8508-454e-4f03-b31f-638b1d8f003f"
      },
      "source": [
        "graph = plt.scatter(features.reshape(-1), labels, label='Input') \\\n",
        ",plt.scatter(features.reshape(-1), ypreds[0].detach(), label='Epoch_1') \\\n",
        ",plt.scatter(features.reshape(-1), ypreds[1].detach(), label='Epoch_2') \\\n",
        ",plt.scatter(features.reshape(-1), ypreds[2].detach(), label='Epoch_3') \\\n",
        ",plt.scatter(features.reshape(-1), ypreds[5].detach(), label='Epoch_6') \\\n",
        ",plt.scatter(features.reshape(-1), ypreds[19].detach(), label='Epoch_20') \\\n",
        ",plt.legend()\n",
        "plt.show(graph)"
      ],
      "execution_count": 186,
      "outputs": [
        {
          "output_type": "display_data",
          "data": {
            "image/png": "[encoded data removed]",
            "text/plain": [
              "<Figure size 432x288 with 1 Axes>"
            ]
          },
          "metadata": {
            "needs_background": "light"
          }
        }
      ]
    }
  ]
}